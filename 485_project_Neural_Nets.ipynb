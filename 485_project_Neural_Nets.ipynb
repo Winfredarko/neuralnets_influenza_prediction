{
  "nbformat": 4,
  "nbformat_minor": 0,
  "metadata": {
    "colab": {
      "name": "485 project - Neural Nets.ipynb",
      "provenance": [],
      "collapsed_sections": [
        "3AvdUWKzCl42",
        "oNqADZ3qHJTb"
      ],
      "toc_visible": true
    },
    "kernelspec": {
      "display_name": "Python 3",
      "language": "python",
      "name": "python3"
    }
  },
  "cells": [
    {
      "cell_type": "markdown",
      "metadata": {
        "id": "mdInu_OFnnDH",
        "colab_type": "text"
      },
      "source": [
        "# Backpropagation learning for multilayer perceptrons"
      ]
    },
    {
      "cell_type": "code",
      "metadata": {
        "id": "7MEGC2Vuuf-b",
        "colab_type": "code",
        "colab": {
          "base_uri": "https://localhost:8080/",
          "height": 55
        },
        "outputId": "aee8ce8f-9ed5-492c-da74-5e09566e90be"
      },
      "source": [
        "from google.colab import drive\n",
        "drive.mount('/content/drive')"
      ],
      "execution_count": null,
      "outputs": [
        {
          "output_type": "stream",
          "text": [
            "Drive already mounted at /content/drive; to attempt to forcibly remount, call drive.mount(\"/content/drive\", force_remount=True).\n"
          ],
          "name": "stdout"
        }
      ]
    },
    {
      "cell_type": "code",
      "metadata": {
        "id": "636ZmD9_vzGq",
        "colab_type": "code",
        "colab": {
          "base_uri": "https://localhost:8080/",
          "height": 238
        },
        "outputId": "5d670f6b-a948-482a-d3a0-1dbf94b176a8"
      },
      "source": [
        "import csv\n",
        "\n",
        "with open('sample_data/Weather.csv') as csv_file:\n",
        "    csv_reader = csv.reader(csv_file, delimiter=',')\n",
        "    line_count = 0\n",
        "    for row in csv_reader:\n",
        "        if line_count == 0:\n",
        "            print(f'Column names are {\", \".join(row)}')\n",
        "            line_count += 1\n",
        "        else:\n",
        "            print(f'\\t In the year {row[0]}, the January temp was {row[1]}, and the February temp was {row[2]}.')\n",
        "            line_count += 1\n",
        "    print(f'Processed {line_count} lines.')"
      ],
      "execution_count": null,
      "outputs": [
        {
          "output_type": "error",
          "ename": "FileNotFoundError",
          "evalue": "ignored",
          "traceback": [
            "\u001b[0;31m---------------------------------------------------------------------------\u001b[0m",
            "\u001b[0;31mFileNotFoundError\u001b[0m                         Traceback (most recent call last)",
            "\u001b[0;32m<ipython-input-2-a384f9b3d42c>\u001b[0m in \u001b[0;36m<module>\u001b[0;34m()\u001b[0m\n\u001b[1;32m      1\u001b[0m \u001b[0;32mimport\u001b[0m \u001b[0mcsv\u001b[0m\u001b[0;34m\u001b[0m\u001b[0;34m\u001b[0m\u001b[0m\n\u001b[1;32m      2\u001b[0m \u001b[0;34m\u001b[0m\u001b[0m\n\u001b[0;32m----> 3\u001b[0;31m \u001b[0;32mwith\u001b[0m \u001b[0mopen\u001b[0m\u001b[0;34m(\u001b[0m\u001b[0;34m'sample_data/Weather.csv'\u001b[0m\u001b[0;34m)\u001b[0m \u001b[0;32mas\u001b[0m \u001b[0mcsv_file\u001b[0m\u001b[0;34m:\u001b[0m\u001b[0;34m\u001b[0m\u001b[0;34m\u001b[0m\u001b[0m\n\u001b[0m\u001b[1;32m      4\u001b[0m     \u001b[0mcsv_reader\u001b[0m \u001b[0;34m=\u001b[0m \u001b[0mcsv\u001b[0m\u001b[0;34m.\u001b[0m\u001b[0mreader\u001b[0m\u001b[0;34m(\u001b[0m\u001b[0mcsv_file\u001b[0m\u001b[0;34m,\u001b[0m \u001b[0mdelimiter\u001b[0m\u001b[0;34m=\u001b[0m\u001b[0;34m','\u001b[0m\u001b[0;34m)\u001b[0m\u001b[0;34m\u001b[0m\u001b[0;34m\u001b[0m\u001b[0m\n\u001b[1;32m      5\u001b[0m     \u001b[0mline_count\u001b[0m \u001b[0;34m=\u001b[0m \u001b[0;36m0\u001b[0m\u001b[0;34m\u001b[0m\u001b[0;34m\u001b[0m\u001b[0m\n",
            "\u001b[0;31mFileNotFoundError\u001b[0m: [Errno 2] No such file or directory: 'sample_data/Weather.csv'"
          ]
        }
      ]
    },
    {
      "cell_type": "markdown",
      "metadata": {
        "id": "0q5OMtAe0mYR",
        "colab_type": "text"
      },
      "source": [
        "#Processing Data"
      ]
    },
    {
      "cell_type": "markdown",
      "metadata": {
        "id": "3AvdUWKzCl42",
        "colab_type": "text"
      },
      "source": [
        "##Reading in Information"
      ]
    },
    {
      "cell_type": "code",
      "metadata": {
        "id": "KLiQKDU50kyB",
        "colab_type": "code",
        "colab": {}
      },
      "source": [
        "# Need to represent cdc_week, disease, num_cases, month_avg_temp\n",
        "with open('/content/drive/Shared drives/COS485 project/influenza_test.csv') as csv_file:\n",
        "  csv_reader = csv.reader(csv_file, delimiter=',')\n",
        "  line_count = 0\n",
        "  for row in csv_reader:\n",
        "      if line_count == 0:\n",
        "          print(f'Column names are {\", \".join(row)}')\n",
        "          line_count += 1\n",
        "      elif line_count == 1:\n",
        "          print(f' Season: {row[0]}, \\n CDC Week: {row[1]} \\n Disease: {row[2]} \\n Number of Cases: {row[3]} \\n Average Temp of the Month: {row[4]} \\n')\n",
        "          line_count += 1\n",
        "  print(f'Processed {line_count} lines.')"
      ],
      "execution_count": null,
      "outputs": []
    },
    {
      "cell_type": "code",
      "metadata": {
        "id": "JzUuCRNB-tqr",
        "colab_type": "code",
        "colab": {}
      },
      "source": [
        "# Need to represent cdc_week, disease, num_cases, month_avg_temp\n",
        "with open('/content/drive/Shared drives/COS485 project/influenza_train.csv') as csv_file:\n",
        "  csv_reader = csv.reader(csv_file, delimiter=',')\n",
        "  line_count = 0\n",
        "  for row in csv_reader:\n",
        "      if line_count == 0:\n",
        "          print(f'Column names are {\", \".join(row)}')\n",
        "          line_count += 1\n",
        "      elif line_count == 1:\n",
        "          print(f' Season: {row[0]}, \\n CDC Week: {row[1]} \\n Disease: {row[2]} \\n Number of Cases: {row[3]} \\n Average Temp of the Month: {row[4]} \\n')\n",
        "          line_count += 1\n",
        "  print(f'Processed {line_count} lines.')"
      ],
      "execution_count": null,
      "outputs": []
    },
    {
      "cell_type": "code",
      "metadata": {
        "id": "f79JpASEnnDM",
        "colab_type": "code",
        "colab": {}
      },
      "source": [
        "# imports \n",
        "import torch\n",
        "import torch.nn as nn\n",
        "import torchvision\n",
        "import numpy as np \n",
        "import scipy\n",
        "import matplotlib.pyplot as plt\n",
        "\n",
        "import matplotlib.gridspec as gridspec\n",
        "from IPython import display\n",
        "import time\n"
      ],
      "execution_count": null,
      "outputs": []
    },
    {
      "cell_type": "code",
      "metadata": {
        "id": "cAi0-VQHnnDO",
        "colab_type": "code",
        "colab": {}
      },
      "source": [
        "# get data\n",
        "## mnist = torchvision.datasets.MNIST(root='data', train=True, download=True) # train data only\n",
        "## trainimages = mnist.train_data\n",
        "## trainlabels = mnist.train_labels\n",
        "\n",
        "# need some sort of structure(s) to hold train data and train labels\n",
        "# structure will hold all of the datapoints\n",
        "# each datapoint represents 1 week and has 3-4 facets plus the name of the week\n",
        "# 0) name: label/date of the week (or week #)\n",
        "# 1) number of new flu cases\n",
        "# 2) number of immunizations (if we can find that data)\n",
        "# 3) average temperature for the week\n",
        "# 4) tourist numbers/population density increase\n",
        "\n",
        "# Data structure\n",
        "# want to make a class for a datapoint\n",
        "# example: L = ['a', ['bb', ['ccc', 'ddd'], 'ee', 'ff'], 'g', 'h']\n",
        "\n",
        "# matrix of length 10 (we have 10 seasons of data) that holds matrices\n",
        "# those matrices are of length 32 (each season has 32 weeks)\n",
        "# each box of THOSE matrices are Data Structures holding the features data\n",
        "\n",
        "\n",
        "\n",
        "\n",
        "def get_features(i):\n",
        "    \"\"\"return feature vector for i'th training example\"\"\"\n",
        "    im = trainimages[i].float() / 255.0 # rescale\n",
        "    ft = im.view(-1) # flatten\n",
        "    return ft \n",
        "\n",
        "def get_onehot(i):\n",
        "    \"\"\"return onehot label vector for i'th training example\"\"\"\n",
        "    onehot = torch.zeros(10).float()\n",
        "    onehot[trainlabels[i]] = 1.0\n",
        "    return onehot"
      ],
      "execution_count": null,
      "outputs": []
    },
    {
      "cell_type": "markdown",
      "metadata": {
        "id": "lltLOCWNCxWZ",
        "colab_type": "text"
      },
      "source": [
        "#Running Algorithm"
      ]
    },
    {
      "cell_type": "code",
      "metadata": {
        "id": "T8US8UtbBlOn",
        "colab_type": "code",
        "colab": {}
      },
      "source": [
        "# Processing Dataset\n",
        "import pandas as pd\n",
        "from matplotlib import pyplot as plt\n",
        "\n",
        "def get_data():\n",
        "  train_data_path = '/content/drive/Shared drives/COS485 project/influenza_train.csv'\n",
        "  test_data_path = '/content/drive/Shared drives/COS485 project/influenza_test.csv'\n",
        "  \n",
        "  train = pd.read_csv(train_data_path)\n",
        "  test = pd.read_csv(test_data_path)\n",
        "\n",
        "  return train, test\n",
        "\n",
        "def get_combined_data():\n",
        "  #reading train data\n",
        "  train, test = get_data()\n",
        "\n",
        "  train_target = train.num_cases\n",
        "  train.drop(['num_cases'], axis=1, inplace = True)\n",
        "\n",
        "  test_target = test.num_cases\n",
        "  test.drop(['num_cases'], axis=1, inplace = True)\n",
        "\n",
        "  combined = train.append(test)\n",
        "  combined.reset_index(inplace=True)\n",
        "  combined.drop(['season', 'index'], inplace=True, axis=1)\n",
        "\n",
        "  return combined, train_target, test_target\n",
        "\n",
        "train_data, test_data = get_data()\n",
        "combined, train_target, test_target = get_combined_data()"
      ],
      "execution_count": null,
      "outputs": []
    },
    {
      "cell_type": "code",
      "metadata": {
        "id": "ltHM_zZLWcM1",
        "colab_type": "code",
        "colab": {
          "base_uri": "https://localhost:8080/",
          "height": 295
        },
        "outputId": "f570eb9f-b379-4773-e570-0215821eaa45"
      },
      "source": [
        "combined.describe()"
      ],
      "execution_count": null,
      "outputs": [
        {
          "output_type": "execute_result",
          "data": {
            "text/html": [
              "<div>\n",
              "<style scoped>\n",
              "    .dataframe tbody tr th:only-of-type {\n",
              "        vertical-align: middle;\n",
              "    }\n",
              "\n",
              "    .dataframe tbody tr th {\n",
              "        vertical-align: top;\n",
              "    }\n",
              "\n",
              "    .dataframe thead th {\n",
              "        text-align: right;\n",
              "    }\n",
              "</style>\n",
              "<table border=\"1\" class=\"dataframe\">\n",
              "  <thead>\n",
              "    <tr style=\"text-align: right;\">\n",
              "      <th></th>\n",
              "      <th>cdc_week</th>\n",
              "      <th>month_avg_temp</th>\n",
              "    </tr>\n",
              "  </thead>\n",
              "  <tbody>\n",
              "    <tr>\n",
              "      <th>count</th>\n",
              "      <td>1029.000000</td>\n",
              "      <td>1029.000000</td>\n",
              "    </tr>\n",
              "    <tr>\n",
              "      <th>mean</th>\n",
              "      <td>16.620991</td>\n",
              "      <td>46.217784</td>\n",
              "    </tr>\n",
              "    <tr>\n",
              "      <th>std</th>\n",
              "      <td>9.565369</td>\n",
              "      <td>10.710124</td>\n",
              "    </tr>\n",
              "    <tr>\n",
              "      <th>min</th>\n",
              "      <td>1.000000</td>\n",
              "      <td>23.900000</td>\n",
              "    </tr>\n",
              "    <tr>\n",
              "      <th>25%</th>\n",
              "      <td>8.000000</td>\n",
              "      <td>37.700000</td>\n",
              "    </tr>\n",
              "    <tr>\n",
              "      <th>50%</th>\n",
              "      <td>16.000000</td>\n",
              "      <td>44.400000</td>\n",
              "    </tr>\n",
              "    <tr>\n",
              "      <th>75%</th>\n",
              "      <td>25.000000</td>\n",
              "      <td>55.000000</td>\n",
              "    </tr>\n",
              "    <tr>\n",
              "      <th>max</th>\n",
              "      <td>33.000000</td>\n",
              "      <td>68.500000</td>\n",
              "    </tr>\n",
              "  </tbody>\n",
              "</table>\n",
              "</div>"
            ],
            "text/plain": [
              "          cdc_week  month_avg_temp\n",
              "count  1029.000000     1029.000000\n",
              "mean     16.620991       46.217784\n",
              "std       9.565369       10.710124\n",
              "min       1.000000       23.900000\n",
              "25%       8.000000       37.700000\n",
              "50%      16.000000       44.400000\n",
              "75%      25.000000       55.000000\n",
              "max      33.000000       68.500000"
            ]
          },
          "metadata": {
            "tags": []
          },
          "execution_count": 3
        }
      ]
    },
    {
      "cell_type": "code",
      "metadata": {
        "id": "Ss_5FbS7T0bA",
        "colab_type": "code",
        "colab": {}
      },
      "source": [
        "def get_cols_with_no_nans(df,col_type):\n",
        "    '''\n",
        "    Arguments :\n",
        "    df : The dataframe to process\n",
        "    col_type : \n",
        "          num : to only get numerical columns with no nans\n",
        "          no_num : to only get nun-numerical columns with no nans\n",
        "          all : to get any columns with no nans    \n",
        "    '''\n",
        "    if (col_type == 'num'):\n",
        "        features = df.select_dtypes(exclude=['object'])\n",
        "    elif (col_type == 'no_num'):\n",
        "        features = df.select_dtypes(include=['object'])\n",
        "    elif (col_type == 'all'):\n",
        "        features = df\n",
        "    else :\n",
        "        print('Error : choose a type (num, no_num, all)')\n",
        "        return 0\n",
        "    cols_with_no_nans = []\n",
        "    for col in features.columns:\n",
        "        if not df[col].isnull().any():\n",
        "          cols_with_no_nans.append(col)\n",
        "    return cols_with_no_nans\n",
        "\n",
        "num_cols = get_cols_with_no_nans(combined , 'num')\n",
        "cat_cols = get_cols_with_no_nans(combined , 'no_num')"
      ],
      "execution_count": null,
      "outputs": []
    },
    {
      "cell_type": "code",
      "metadata": {
        "id": "Tmcd8uUVUtgt",
        "colab_type": "code",
        "colab": {
          "base_uri": "https://localhost:8080/",
          "height": 336
        },
        "outputId": "570dc816-79d4-4ff6-97cf-4ca37f3752b3"
      },
      "source": [
        "combined = combined[num_cols + cat_cols]\n",
        "combined.hist(figsize = (10, 5))\n",
        "plt.show()"
      ],
      "execution_count": null,
      "outputs": [
        {
          "output_type": "display_data",
          "data": {
            "image/png": "[encoded data removed]",
            "text/plain": [
              "<Figure size 720x360 with 2 Axes>"
            ]
          },
          "metadata": {
            "tags": [],
            "needs_background": "light"
          }
        }
      ]
    },
    {
      "cell_type": "code",
      "metadata": {
        "id": "9QVipzEgXNr6",
        "colab_type": "code",
        "colab": {
          "base_uri": "https://localhost:8080/",
          "height": 363
        },
        "outputId": "d28995d7-176a-43af-e177-b02d3bfb87ca"
      },
      "source": [
        "import seaborn as sb\n",
        "\n",
        "# Find correlation between features\n",
        "train_data = train_data[num_cols + cat_cols]\n",
        "train_data['Target'] = train_target\n",
        "\n",
        "C_mat = train_data.corr()\n",
        "fig = plt.figure(figsize = (5,5))\n",
        "\n",
        "sb.heatmap(C_mat, vmax = .8, square = True)\n",
        "plt.show()"
      ],
      "execution_count": null,
      "outputs": [
        {
          "output_type": "stream",
          "text": [
            "/usr/local/lib/python3.6/dist-packages/statsmodels/tools/_testing.py:19: FutureWarning: pandas.util.testing is deprecated. Use the functions in the public API at pandas.testing instead.\n",
            "  import pandas.util.testing as tm\n"
          ],
          "name": "stderr"
        },
        {
          "output_type": "display_data",
          "data": {
            "image/png": "[encoded data removed]",
            "text/plain": [
              "<Figure size 360x360 with 2 Axes>"
            ]
          },
          "metadata": {
            "tags": [],
            "needs_background": "light"
          }
        }
      ]
    },
    {
      "cell_type": "code",
      "metadata": {
        "id": "vjOGq1Coacm2",
        "colab_type": "code",
        "colab": {
          "base_uri": "https://localhost:8080/",
          "height": 52
        },
        "outputId": "2e00b1b1-2b7b-4cc8-c331-90305e8d33f1"
      },
      "source": [
        "import numpy as np\n",
        "\n",
        "def oneHotEncode(df,colNames):\n",
        "    for col in colNames:\n",
        "        if( df[col].dtype == np.dtype('object')):\n",
        "            dummies = pd.get_dummies(df[col],prefix=col)\n",
        "            df = pd.concat([df,dummies],axis=1)\n",
        "\n",
        "            #drop the encoded column\n",
        "            df.drop([col],axis = 1 , inplace=True)\n",
        "    return df\n",
        "    \n",
        "\n",
        "print('There were {} columns before encoding categorical features'.format(combined.shape[1]))\n",
        "combined = oneHotEncode(combined, cat_cols)\n",
        "print('There are {} columns after encoding categorical features'.format(combined.shape[1]))"
      ],
      "execution_count": null,
      "outputs": [
        {
          "output_type": "stream",
          "text": [
            "There were 3 columns before encoding categorical features\n",
            "There are 5 columns after encoding categorical features\n"
          ],
          "name": "stdout"
        }
      ]
    },
    {
      "cell_type": "code",
      "metadata": {
        "id": "s1clM5jJawFH",
        "colab_type": "code",
        "colab": {
          "base_uri": "https://localhost:8080/",
          "height": 295
        },
        "outputId": "5802f91b-806e-41aa-80c4-ce726cb1c25d"
      },
      "source": [
        "combined.describe()"
      ],
      "execution_count": null,
      "outputs": [
        {
          "output_type": "execute_result",
          "data": {
            "text/html": [
              "<div>\n",
              "<style scoped>\n",
              "    .dataframe tbody tr th:only-of-type {\n",
              "        vertical-align: middle;\n",
              "    }\n",
              "\n",
              "    .dataframe tbody tr th {\n",
              "        vertical-align: top;\n",
              "    }\n",
              "\n",
              "    .dataframe thead th {\n",
              "        text-align: right;\n",
              "    }\n",
              "</style>\n",
              "<table border=\"1\" class=\"dataframe\">\n",
              "  <thead>\n",
              "    <tr style=\"text-align: right;\">\n",
              "      <th></th>\n",
              "      <th>cdc_week</th>\n",
              "      <th>month_avg_temp</th>\n",
              "      <th>disease_INFLUENZA_A</th>\n",
              "      <th>disease_INFLUENZA_B</th>\n",
              "      <th>disease_INFLUENZA_UNSPECIFIED</th>\n",
              "    </tr>\n",
              "  </thead>\n",
              "  <tbody>\n",
              "    <tr>\n",
              "      <th>count</th>\n",
              "      <td>1029.000000</td>\n",
              "      <td>1029.000000</td>\n",
              "      <td>1029.000000</td>\n",
              "      <td>1029.000000</td>\n",
              "      <td>1029.000000</td>\n",
              "    </tr>\n",
              "    <tr>\n",
              "      <th>mean</th>\n",
              "      <td>16.620991</td>\n",
              "      <td>46.217784</td>\n",
              "      <td>0.333333</td>\n",
              "      <td>0.333333</td>\n",
              "      <td>0.333333</td>\n",
              "    </tr>\n",
              "    <tr>\n",
              "      <th>std</th>\n",
              "      <td>9.565369</td>\n",
              "      <td>10.710124</td>\n",
              "      <td>0.471634</td>\n",
              "      <td>0.471634</td>\n",
              "      <td>0.471634</td>\n",
              "    </tr>\n",
              "    <tr>\n",
              "      <th>min</th>\n",
              "      <td>1.000000</td>\n",
              "      <td>23.900000</td>\n",
              "      <td>0.000000</td>\n",
              "      <td>0.000000</td>\n",
              "      <td>0.000000</td>\n",
              "    </tr>\n",
              "    <tr>\n",
              "      <th>25%</th>\n",
              "      <td>8.000000</td>\n",
              "      <td>37.700000</td>\n",
              "      <td>0.000000</td>\n",
              "      <td>0.000000</td>\n",
              "      <td>0.000000</td>\n",
              "    </tr>\n",
              "    <tr>\n",
              "      <th>50%</th>\n",
              "      <td>16.000000</td>\n",
              "      <td>44.400000</td>\n",
              "      <td>0.000000</td>\n",
              "      <td>0.000000</td>\n",
              "      <td>0.000000</td>\n",
              "    </tr>\n",
              "    <tr>\n",
              "      <th>75%</th>\n",
              "      <td>25.000000</td>\n",
              "      <td>55.000000</td>\n",
              "      <td>1.000000</td>\n",
              "      <td>1.000000</td>\n",
              "      <td>1.000000</td>\n",
              "    </tr>\n",
              "    <tr>\n",
              "      <th>max</th>\n",
              "      <td>33.000000</td>\n",
              "      <td>68.500000</td>\n",
              "      <td>1.000000</td>\n",
              "      <td>1.000000</td>\n",
              "      <td>1.000000</td>\n",
              "    </tr>\n",
              "  </tbody>\n",
              "</table>\n",
              "</div>"
            ],
            "text/plain": [
              "          cdc_week  ...  disease_INFLUENZA_UNSPECIFIED\n",
              "count  1029.000000  ...                    1029.000000\n",
              "mean     16.620991  ...                       0.333333\n",
              "std       9.565369  ...                       0.471634\n",
              "min       1.000000  ...                       0.000000\n",
              "25%       8.000000  ...                       0.000000\n",
              "50%      16.000000  ...                       0.000000\n",
              "75%      25.000000  ...                       1.000000\n",
              "max      33.000000  ...                       1.000000\n",
              "\n",
              "[8 rows x 5 columns]"
            ]
          },
          "metadata": {
            "tags": []
          },
          "execution_count": 8
        }
      ]
    },
    {
      "cell_type": "code",
      "metadata": {
        "id": "8cz9MKQmbICo",
        "colab_type": "code",
        "colab": {
          "base_uri": "https://localhost:8080/",
          "height": 52
        },
        "outputId": "57fab6f3-d1a0-4fc9-e0be-18839ad7804f"
      },
      "source": [
        "print(len(train_data))\n",
        "print(len(test_data))"
      ],
      "execution_count": null,
      "outputs": [
        {
          "output_type": "stream",
          "text": [
            "792\n",
            "237\n"
          ],
          "name": "stdout"
        }
      ]
    },
    {
      "cell_type": "code",
      "metadata": {
        "id": "pSuF4NQwa7-9",
        "colab_type": "code",
        "colab": {}
      },
      "source": [
        "def split_combined():\n",
        "    global combined\n",
        "    num_train_ex = len(train_data)\n",
        "    train = combined[:num_train_ex]\n",
        "    test = combined[num_train_ex:]\n",
        "\n",
        "    return train , test \n",
        "  \n",
        "train, test = split_combined()"
      ],
      "execution_count": null,
      "outputs": []
    },
    {
      "cell_type": "markdown",
      "metadata": {
        "id": "JCk-WAutFVik",
        "colab_type": "text"
      },
      "source": [
        "#Making Network: 1 Layer Linear Regression"
      ]
    },
    {
      "cell_type": "code",
      "metadata": {
        "id": "ORH0farIFUqa",
        "colab_type": "code",
        "colab": {
          "base_uri": "https://localhost:8080/",
          "height": 281
        },
        "outputId": "13538110-6253-49b9-9fe5-76ffd0f2860a"
      },
      "source": [
        "from keras.callbacks import ModelCheckpoint\n",
        "from keras.models import Sequential\n",
        "from keras.layers import Dense, Activation, Flatten\n",
        "from sklearn.model_selection import train_test_split\n",
        "from sklearn.ensemble import RandomForestRegressor\n",
        "from sklearn.metrics import mean_absolute_error \n",
        "\n",
        "NN_model_1 = Sequential()\n",
        "\n",
        "#Input Layer:\n",
        "NN_model_1.add(Dense(128, kernel_initializer='normal', input_dim = train.shape[1], activation='relu'))\n",
        "\n",
        "#Single Hidden Layer:\n",
        "NN_model_1.add(Dense(256, kernel_initializer='normal', activation='relu'))\n",
        "\n",
        "# The output layer:\n",
        "NN_model_1.add(Dense(1, kernel_initializer='normal', activation='linear'))\n",
        "\n",
        "# Compile the network :\n",
        "NN_model_1.compile(loss='mean_absolute_error', optimizer='adam', metrics=['mean_absolute_error'])\n",
        "NN_model_1.summary()"
      ],
      "execution_count": null,
      "outputs": [
        {
          "output_type": "stream",
          "text": [
            "Using TensorFlow backend.\n"
          ],
          "name": "stderr"
        },
        {
          "output_type": "stream",
          "text": [
            "Model: \"sequential_1\"\n",
            "_________________________________________________________________\n",
            "Layer (type)                 Output Shape              Param #   \n",
            "=================================================================\n",
            "dense_1 (Dense)              (None, 128)               768       \n",
            "_________________________________________________________________\n",
            "dense_2 (Dense)              (None, 256)               33024     \n",
            "_________________________________________________________________\n",
            "dense_3 (Dense)              (None, 1)                 257       \n",
            "=================================================================\n",
            "Total params: 34,049\n",
            "Trainable params: 34,049\n",
            "Non-trainable params: 0\n",
            "_________________________________________________________________\n"
          ],
          "name": "stdout"
        }
      ]
    },
    {
      "cell_type": "markdown",
      "metadata": {
        "id": "jkKn-9hKGz6s",
        "colab_type": "text"
      },
      "source": [
        "##Checkpoint Callback"
      ]
    },
    {
      "cell_type": "code",
      "metadata": {
        "id": "aj-RLWYnGzMK",
        "colab_type": "code",
        "colab": {}
      },
      "source": [
        "checkpoint_name = 'Weights-{epoch:03d}--{val_loss:.5f}.hdf5' \n",
        "checkpoint = ModelCheckpoint(checkpoint_name, monitor='val_loss', verbose = 1, save_best_only = True, mode ='auto')\n",
        "callbacks_list = [checkpoint]"
      ],
      "execution_count": null,
      "outputs": []
    },
    {
      "cell_type": "markdown",
      "metadata": {
        "id": "swGcRJlmG7_x",
        "colab_type": "text"
      },
      "source": [
        "## Train the Model"
      ]
    },
    {
      "cell_type": "code",
      "metadata": {
        "id": "4DTmfllNG-eX",
        "colab_type": "code",
        "colab": {
          "base_uri": "https://localhost:8080/",
          "height": 1000
        },
        "outputId": "379f619f-a904-485c-a7b0-70497b05232c"
      },
      "source": [
        "NN_model_1.fit(train, train_target, epochs=50, batch_size=32, validation_split = 0.2, callbacks=callbacks_list)"
      ],
      "execution_count": null,
      "outputs": [
        {
          "output_type": "stream",
          "text": [
            "Train on 633 samples, validate on 159 samples\n",
            "Epoch 1/50\n",
            "633/633 [==============================] - 0s 296us/step - loss: 14.0238 - mean_absolute_error: 14.0238 - val_loss: 33.8525 - val_mean_absolute_error: 33.8525\n",
            "\n",
            "Epoch 00001: val_loss improved from inf to 33.85254, saving model to Weights-001--33.85254.hdf5\n",
            "Epoch 2/50\n",
            "633/633 [==============================] - 0s 61us/step - loss: 13.7297 - mean_absolute_error: 13.7297 - val_loss: 32.6439 - val_mean_absolute_error: 32.6439\n",
            "\n",
            "Epoch 00002: val_loss improved from 33.85254 to 32.64394, saving model to Weights-002--32.64394.hdf5\n",
            "Epoch 3/50\n",
            "633/633 [==============================] - 0s 58us/step - loss: 13.6909 - mean_absolute_error: 13.6909 - val_loss: 33.0655 - val_mean_absolute_error: 33.0655\n",
            "\n",
            "Epoch 00003: val_loss did not improve from 32.64394\n",
            "Epoch 4/50\n",
            "633/633 [==============================] - 0s 67us/step - loss: 13.6454 - mean_absolute_error: 13.6454 - val_loss: 32.8770 - val_mean_absolute_error: 32.8770\n",
            "\n",
            "Epoch 00004: val_loss did not improve from 32.64394\n",
            "Epoch 5/50\n",
            "633/633 [==============================] - 0s 62us/step - loss: 13.5347 - mean_absolute_error: 13.5347 - val_loss: 32.7240 - val_mean_absolute_error: 32.7240\n",
            "\n",
            "Epoch 00005: val_loss did not improve from 32.64394\n",
            "Epoch 6/50\n",
            "633/633 [==============================] - 0s 72us/step - loss: 13.4379 - mean_absolute_error: 13.4378 - val_loss: 32.6922 - val_mean_absolute_error: 32.6922\n",
            "\n",
            "Epoch 00006: val_loss did not improve from 32.64394\n",
            "Epoch 7/50\n",
            "633/633 [==============================] - 0s 63us/step - loss: 13.3340 - mean_absolute_error: 13.3340 - val_loss: 32.6854 - val_mean_absolute_error: 32.6854\n",
            "\n",
            "Epoch 00007: val_loss did not improve from 32.64394\n",
            "Epoch 8/50\n",
            "633/633 [==============================] - 0s 61us/step - loss: 13.2400 - mean_absolute_error: 13.2400 - val_loss: 32.4349 - val_mean_absolute_error: 32.4349\n",
            "\n",
            "Epoch 00008: val_loss improved from 32.64394 to 32.43495, saving model to Weights-008--32.43495.hdf5\n",
            "Epoch 9/50\n",
            "633/633 [==============================] - 0s 66us/step - loss: 13.0459 - mean_absolute_error: 13.0459 - val_loss: 33.0400 - val_mean_absolute_error: 33.0400\n",
            "\n",
            "Epoch 00009: val_loss did not improve from 32.43495\n",
            "Epoch 10/50\n",
            "633/633 [==============================] - 0s 61us/step - loss: 12.9811 - mean_absolute_error: 12.9811 - val_loss: 32.8263 - val_mean_absolute_error: 32.8263\n",
            "\n",
            "Epoch 00010: val_loss did not improve from 32.43495\n",
            "Epoch 11/50\n",
            "633/633 [==============================] - 0s 62us/step - loss: 12.8024 - mean_absolute_error: 12.8025 - val_loss: 31.6004 - val_mean_absolute_error: 31.6004\n",
            "\n",
            "Epoch 00011: val_loss improved from 32.43495 to 31.60039, saving model to Weights-011--31.60039.hdf5\n",
            "Epoch 12/50\n",
            "633/633 [==============================] - 0s 62us/step - loss: 12.7867 - mean_absolute_error: 12.7867 - val_loss: 32.1531 - val_mean_absolute_error: 32.1531\n",
            "\n",
            "Epoch 00012: val_loss did not improve from 31.60039\n",
            "Epoch 13/50\n",
            "633/633 [==============================] - 0s 65us/step - loss: 12.6205 - mean_absolute_error: 12.6205 - val_loss: 31.4204 - val_mean_absolute_error: 31.4204\n",
            "\n",
            "Epoch 00013: val_loss improved from 31.60039 to 31.42042, saving model to Weights-013--31.42042.hdf5\n",
            "Epoch 14/50\n",
            "633/633 [==============================] - 0s 62us/step - loss: 12.5484 - mean_absolute_error: 12.5484 - val_loss: 32.6805 - val_mean_absolute_error: 32.6805\n",
            "\n",
            "Epoch 00014: val_loss did not improve from 31.42042\n",
            "Epoch 15/50\n",
            "633/633 [==============================] - 0s 63us/step - loss: 12.6164 - mean_absolute_error: 12.6164 - val_loss: 31.2585 - val_mean_absolute_error: 31.2585\n",
            "\n",
            "Epoch 00015: val_loss improved from 31.42042 to 31.25849, saving model to Weights-015--31.25849.hdf5\n",
            "Epoch 16/50\n",
            "633/633 [==============================] - 0s 58us/step - loss: 12.6673 - mean_absolute_error: 12.6673 - val_loss: 32.4357 - val_mean_absolute_error: 32.4357\n",
            "\n",
            "Epoch 00016: val_loss did not improve from 31.25849\n",
            "Epoch 17/50\n",
            "633/633 [==============================] - 0s 67us/step - loss: 12.5206 - mean_absolute_error: 12.5206 - val_loss: 31.9868 - val_mean_absolute_error: 31.9868\n",
            "\n",
            "Epoch 00017: val_loss did not improve from 31.25849\n",
            "Epoch 18/50\n",
            "633/633 [==============================] - 0s 66us/step - loss: 12.4087 - mean_absolute_error: 12.4087 - val_loss: 31.0514 - val_mean_absolute_error: 31.0514\n",
            "\n",
            "Epoch 00018: val_loss improved from 31.25849 to 31.05139, saving model to Weights-018--31.05139.hdf5\n",
            "Epoch 19/50\n",
            "633/633 [==============================] - 0s 70us/step - loss: 12.5305 - mean_absolute_error: 12.5305 - val_loss: 31.8514 - val_mean_absolute_error: 31.8514\n",
            "\n",
            "Epoch 00019: val_loss did not improve from 31.05139\n",
            "Epoch 20/50\n",
            "633/633 [==============================] - 0s 62us/step - loss: 12.3256 - mean_absolute_error: 12.3256 - val_loss: 32.5570 - val_mean_absolute_error: 32.5570\n",
            "\n",
            "Epoch 00020: val_loss did not improve from 31.05139\n",
            "Epoch 21/50\n",
            "633/633 [==============================] - 0s 61us/step - loss: 12.3867 - mean_absolute_error: 12.3867 - val_loss: 31.0426 - val_mean_absolute_error: 31.0426\n",
            "\n",
            "Epoch 00021: val_loss improved from 31.05139 to 31.04256, saving model to Weights-021--31.04256.hdf5\n",
            "Epoch 22/50\n",
            "633/633 [==============================] - 0s 73us/step - loss: 12.2609 - mean_absolute_error: 12.2609 - val_loss: 33.0575 - val_mean_absolute_error: 33.0575\n",
            "\n",
            "Epoch 00022: val_loss did not improve from 31.04256\n",
            "Epoch 23/50\n",
            "633/633 [==============================] - 0s 69us/step - loss: 12.3174 - mean_absolute_error: 12.3174 - val_loss: 30.2530 - val_mean_absolute_error: 30.2530\n",
            "\n",
            "Epoch 00023: val_loss improved from 31.04256 to 30.25297, saving model to Weights-023--30.25297.hdf5\n",
            "Epoch 24/50\n",
            "633/633 [==============================] - 0s 58us/step - loss: 12.3197 - mean_absolute_error: 12.3197 - val_loss: 31.5590 - val_mean_absolute_error: 31.5590\n",
            "\n",
            "Epoch 00024: val_loss did not improve from 30.25297\n",
            "Epoch 25/50\n",
            "633/633 [==============================] - 0s 62us/step - loss: 12.1913 - mean_absolute_error: 12.1913 - val_loss: 31.4855 - val_mean_absolute_error: 31.4855\n",
            "\n",
            "Epoch 00025: val_loss did not improve from 30.25297\n",
            "Epoch 26/50\n",
            "633/633 [==============================] - 0s 62us/step - loss: 12.1541 - mean_absolute_error: 12.1541 - val_loss: 32.1525 - val_mean_absolute_error: 32.1525\n",
            "\n",
            "Epoch 00026: val_loss did not improve from 30.25297\n",
            "Epoch 27/50\n",
            "633/633 [==============================] - 0s 70us/step - loss: 12.2264 - mean_absolute_error: 12.2264 - val_loss: 30.5403 - val_mean_absolute_error: 30.5403\n",
            "\n",
            "Epoch 00027: val_loss did not improve from 30.25297\n",
            "Epoch 28/50\n",
            "633/633 [==============================] - 0s 58us/step - loss: 12.1517 - mean_absolute_error: 12.1517 - val_loss: 31.2690 - val_mean_absolute_error: 31.2690\n",
            "\n",
            "Epoch 00028: val_loss did not improve from 30.25297\n",
            "Epoch 29/50\n",
            "633/633 [==============================] - 0s 62us/step - loss: 11.9983 - mean_absolute_error: 11.9983 - val_loss: 31.8983 - val_mean_absolute_error: 31.8983\n",
            "\n",
            "Epoch 00029: val_loss did not improve from 30.25297\n",
            "Epoch 30/50\n",
            "633/633 [==============================] - 0s 60us/step - loss: 12.0333 - mean_absolute_error: 12.0333 - val_loss: 30.5772 - val_mean_absolute_error: 30.5772\n",
            "\n",
            "Epoch 00030: val_loss did not improve from 30.25297\n",
            "Epoch 31/50\n",
            "633/633 [==============================] - 0s 64us/step - loss: 12.0054 - mean_absolute_error: 12.0054 - val_loss: 32.7455 - val_mean_absolute_error: 32.7455\n",
            "\n",
            "Epoch 00031: val_loss did not improve from 30.25297\n",
            "Epoch 32/50\n",
            "633/633 [==============================] - 0s 66us/step - loss: 11.9882 - mean_absolute_error: 11.9882 - val_loss: 30.5527 - val_mean_absolute_error: 30.5527\n",
            "\n",
            "Epoch 00032: val_loss did not improve from 30.25297\n",
            "Epoch 33/50\n",
            "633/633 [==============================] - 0s 61us/step - loss: 11.8566 - mean_absolute_error: 11.8566 - val_loss: 31.9938 - val_mean_absolute_error: 31.9938\n",
            "\n",
            "Epoch 00033: val_loss did not improve from 30.25297\n",
            "Epoch 34/50\n",
            "633/633 [==============================] - 0s 63us/step - loss: 11.8387 - mean_absolute_error: 11.8387 - val_loss: 30.4687 - val_mean_absolute_error: 30.4687\n",
            "\n",
            "Epoch 00034: val_loss did not improve from 30.25297\n",
            "Epoch 35/50\n",
            "633/633 [==============================] - 0s 59us/step - loss: 11.8518 - mean_absolute_error: 11.8518 - val_loss: 32.2220 - val_mean_absolute_error: 32.2220\n",
            "\n",
            "Epoch 00035: val_loss did not improve from 30.25297\n",
            "Epoch 36/50\n",
            "633/633 [==============================] - 0s 62us/step - loss: 11.8123 - mean_absolute_error: 11.8123 - val_loss: 30.7364 - val_mean_absolute_error: 30.7364\n",
            "\n",
            "Epoch 00036: val_loss did not improve from 30.25297\n",
            "Epoch 37/50\n",
            "633/633 [==============================] - 0s 64us/step - loss: 11.6375 - mean_absolute_error: 11.6375 - val_loss: 31.8046 - val_mean_absolute_error: 31.8046\n",
            "\n",
            "Epoch 00037: val_loss did not improve from 30.25297\n",
            "Epoch 38/50\n",
            "633/633 [==============================] - 0s 60us/step - loss: 11.6402 - mean_absolute_error: 11.6402 - val_loss: 30.3196 - val_mean_absolute_error: 30.3196\n",
            "\n",
            "Epoch 00038: val_loss did not improve from 30.25297\n",
            "Epoch 39/50\n",
            "633/633 [==============================] - 0s 61us/step - loss: 11.6183 - mean_absolute_error: 11.6183 - val_loss: 30.8995 - val_mean_absolute_error: 30.8995\n",
            "\n",
            "Epoch 00039: val_loss did not improve from 30.25297\n",
            "Epoch 40/50\n",
            "633/633 [==============================] - 0s 65us/step - loss: 11.5514 - mean_absolute_error: 11.5514 - val_loss: 30.0552 - val_mean_absolute_error: 30.0552\n",
            "\n",
            "Epoch 00040: val_loss improved from 30.25297 to 30.05523, saving model to Weights-040--30.05523.hdf5\n",
            "Epoch 41/50\n",
            "633/633 [==============================] - 0s 59us/step - loss: 11.4430 - mean_absolute_error: 11.4430 - val_loss: 30.2000 - val_mean_absolute_error: 30.2000\n",
            "\n",
            "Epoch 00041: val_loss did not improve from 30.05523\n",
            "Epoch 42/50\n",
            "633/633 [==============================] - 0s 65us/step - loss: 11.4758 - mean_absolute_error: 11.4758 - val_loss: 30.6177 - val_mean_absolute_error: 30.6177\n",
            "\n",
            "Epoch 00042: val_loss did not improve from 30.05523\n",
            "Epoch 43/50\n",
            "633/633 [==============================] - 0s 63us/step - loss: 11.3723 - mean_absolute_error: 11.3723 - val_loss: 31.6436 - val_mean_absolute_error: 31.6436\n",
            "\n",
            "Epoch 00043: val_loss did not improve from 30.05523\n",
            "Epoch 44/50\n",
            "633/633 [==============================] - 0s 61us/step - loss: 11.3262 - mean_absolute_error: 11.3262 - val_loss: 30.1923 - val_mean_absolute_error: 30.1923\n",
            "\n",
            "Epoch 00044: val_loss did not improve from 30.05523\n",
            "Epoch 45/50\n",
            "633/633 [==============================] - 0s 63us/step - loss: 11.2458 - mean_absolute_error: 11.2458 - val_loss: 32.0569 - val_mean_absolute_error: 32.0569\n",
            "\n",
            "Epoch 00045: val_loss did not improve from 30.05523\n",
            "Epoch 46/50\n",
            "633/633 [==============================] - 0s 64us/step - loss: 11.2871 - mean_absolute_error: 11.2871 - val_loss: 31.9026 - val_mean_absolute_error: 31.9026\n",
            "\n",
            "Epoch 00046: val_loss did not improve from 30.05523\n",
            "Epoch 47/50\n",
            "633/633 [==============================] - 0s 74us/step - loss: 11.3756 - mean_absolute_error: 11.3756 - val_loss: 32.5595 - val_mean_absolute_error: 32.5595\n",
            "\n",
            "Epoch 00047: val_loss did not improve from 30.05523\n",
            "Epoch 48/50\n",
            "633/633 [==============================] - 0s 66us/step - loss: 11.3179 - mean_absolute_error: 11.3179 - val_loss: 31.7177 - val_mean_absolute_error: 31.7177\n",
            "\n",
            "Epoch 00048: val_loss did not improve from 30.05523\n",
            "Epoch 49/50\n",
            "633/633 [==============================] - 0s 64us/step - loss: 11.2031 - mean_absolute_error: 11.2031 - val_loss: 31.0654 - val_mean_absolute_error: 31.0654\n",
            "\n",
            "Epoch 00049: val_loss did not improve from 30.05523\n",
            "Epoch 50/50\n",
            "633/633 [==============================] - 0s 61us/step - loss: 11.1446 - mean_absolute_error: 11.1446 - val_loss: 31.1689 - val_mean_absolute_error: 31.1689\n",
            "\n",
            "Epoch 00050: val_loss did not improve from 30.05523\n"
          ],
          "name": "stdout"
        },
        {
          "output_type": "execute_result",
          "data": {
            "text/plain": [
              "<keras.callbacks.callbacks.History at 0x7f72e1e11898>"
            ]
          },
          "metadata": {
            "tags": []
          },
          "execution_count": 15
        }
      ]
    },
    {
      "cell_type": "code",
      "metadata": {
        "id": "79C8o9Qyd_03",
        "colab_type": "code",
        "colab": {}
      },
      "source": [
        "# Load weights file of the best model\n",
        "# weights_file = 'Weights-036--29.68963.hdf5' # choose the best checkpoint \n",
        "weights_file = '/content/drive/Shared drives/COS485 project/Weights/Weights-036--29.68963.hdf5'\n",
        "NN_model_1.load_weights(weights_file) # load it\n",
        "NN_model_1.compile(loss='mean_absolute_error', optimizer='adam', metrics=['mean_absolute_error'])"
      ],
      "execution_count": null,
      "outputs": []
    },
    {
      "cell_type": "markdown",
      "metadata": {
        "id": "enT3Per1fT5J",
        "colab_type": "text"
      },
      "source": [
        "The validation loss of the best model is 29.19424\n",
        "\n"
      ]
    },
    {
      "cell_type": "markdown",
      "metadata": {
        "id": "HmqesmoHmSmx",
        "colab_type": "text"
      },
      "source": [
        "#Network 2: 2 Layers, Sigmoid and Relu"
      ]
    },
    {
      "cell_type": "code",
      "metadata": {
        "colab_type": "code",
        "id": "sJzRh6iemt5Z",
        "colab": {
          "base_uri": "https://localhost:8080/",
          "height": 299
        },
        "outputId": "81f0948e-94b1-4dfd-db22-bdeb40197494"
      },
      "source": [
        "from keras.callbacks import ModelCheckpoint\n",
        "from keras.models import Sequential\n",
        "from keras.layers import Dense, Activation, Flatten\n",
        "from sklearn.model_selection import train_test_split\n",
        "from sklearn.ensemble import RandomForestRegressor\n",
        "from sklearn.metrics import mean_absolute_error \n",
        "\n",
        "NN_model_2 = Sequential()\n",
        "\n",
        "#Input Layer:\n",
        "NN_model_2.add(Dense(128, kernel_initializer='normal', input_dim = train.shape[1], activation='relu'))\n",
        "\n",
        "#Two Hidden Layers:\n",
        "NN_model_2.add(Dense(256, kernel_initializer='normal', activation='sigmoid'))\n",
        "NN_model_2.add(Dense(256, kernel_initializer='normal', activation='relu'))\n",
        "\n",
        "# The output layer:\n",
        "NN_model_2.add(Dense(1, kernel_initializer='normal', activation='linear'))\n",
        "\n",
        "# Compile the network :\n",
        "NN_model_2.compile(loss='mean_absolute_error', optimizer='adam', metrics=['mean_absolute_error'])\n",
        "NN_model_2.summary()"
      ],
      "execution_count": null,
      "outputs": [
        {
          "output_type": "stream",
          "text": [
            "Model: \"sequential_2\"\n",
            "_________________________________________________________________\n",
            "Layer (type)                 Output Shape              Param #   \n",
            "=================================================================\n",
            "dense_4 (Dense)              (None, 128)               768       \n",
            "_________________________________________________________________\n",
            "dense_5 (Dense)              (None, 256)               33024     \n",
            "_________________________________________________________________\n",
            "dense_6 (Dense)              (None, 256)               65792     \n",
            "_________________________________________________________________\n",
            "dense_7 (Dense)              (None, 1)                 257       \n",
            "=================================================================\n",
            "Total params: 99,841\n",
            "Trainable params: 99,841\n",
            "Non-trainable params: 0\n",
            "_________________________________________________________________\n"
          ],
          "name": "stdout"
        }
      ]
    },
    {
      "cell_type": "code",
      "metadata": {
        "id": "cMh3h06Mm36W",
        "colab_type": "code",
        "colab": {}
      },
      "source": [
        "checkpoint_name = 'Weights-{epoch:04d}--{val_loss:.5f}.hdf5' \n",
        "checkpoint = ModelCheckpoint(checkpoint_name, monitor='val_loss', verbose = 1, save_best_only = True, mode ='auto')\n",
        "callbacks_list = [checkpoint]"
      ],
      "execution_count": null,
      "outputs": []
    },
    {
      "cell_type": "code",
      "metadata": {
        "id": "HR-jHj0_m8Fs",
        "colab_type": "code",
        "colab": {
          "base_uri": "https://localhost:8080/",
          "height": 1000
        },
        "outputId": "0193151a-c497-4103-ed94-8b13c25238f9"
      },
      "source": [
        "NN_model_2.fit(train, train_target, epochs=50, batch_size=32, validation_split = 0.2, callbacks=callbacks_list)"
      ],
      "execution_count": null,
      "outputs": [
        {
          "output_type": "stream",
          "text": [
            "Train on 633 samples, validate on 159 samples\n",
            "Epoch 1/50\n",
            "633/633 [==============================] - 0s 241us/step - loss: 13.9605 - mean_absolute_error: 13.9605 - val_loss: 33.8764 - val_mean_absolute_error: 33.8764\n",
            "\n",
            "Epoch 00001: val_loss improved from inf to 33.87637, saving model to Weights-001--33.87637.hdf5\n",
            "Epoch 2/50\n",
            "633/633 [==============================] - 0s 84us/step - loss: 13.7442 - mean_absolute_error: 13.7442 - val_loss: 33.2643 - val_mean_absolute_error: 33.2643\n",
            "\n",
            "Epoch 00002: val_loss improved from 33.87637 to 33.26434, saving model to Weights-002--33.26434.hdf5\n",
            "Epoch 3/50\n",
            "633/633 [==============================] - 0s 85us/step - loss: 13.5512 - mean_absolute_error: 13.5512 - val_loss: 32.6962 - val_mean_absolute_error: 32.6962\n",
            "\n",
            "Epoch 00003: val_loss improved from 33.26434 to 32.69624, saving model to Weights-003--32.69624.hdf5\n",
            "Epoch 4/50\n",
            "633/633 [==============================] - 0s 84us/step - loss: 13.3662 - mean_absolute_error: 13.3662 - val_loss: 33.1132 - val_mean_absolute_error: 33.1132\n",
            "\n",
            "Epoch 00004: val_loss did not improve from 32.69624\n",
            "Epoch 5/50\n",
            "633/633 [==============================] - 0s 97us/step - loss: 13.2189 - mean_absolute_error: 13.2189 - val_loss: 33.3359 - val_mean_absolute_error: 33.3359\n",
            "\n",
            "Epoch 00005: val_loss did not improve from 32.69624\n",
            "Epoch 6/50\n",
            "633/633 [==============================] - 0s 106us/step - loss: 13.0053 - mean_absolute_error: 13.0053 - val_loss: 33.6284 - val_mean_absolute_error: 33.6284\n",
            "\n",
            "Epoch 00006: val_loss did not improve from 32.69624\n",
            "Epoch 7/50\n",
            "633/633 [==============================] - 0s 93us/step - loss: 12.8955 - mean_absolute_error: 12.8955 - val_loss: 32.3153 - val_mean_absolute_error: 32.3153\n",
            "\n",
            "Epoch 00007: val_loss improved from 32.69624 to 32.31533, saving model to Weights-007--32.31533.hdf5\n",
            "Epoch 8/50\n",
            "633/633 [==============================] - 0s 102us/step - loss: 12.8136 - mean_absolute_error: 12.8136 - val_loss: 32.8763 - val_mean_absolute_error: 32.8763\n",
            "\n",
            "Epoch 00008: val_loss did not improve from 32.31533\n",
            "Epoch 9/50\n",
            "633/633 [==============================] - 0s 88us/step - loss: 12.5681 - mean_absolute_error: 12.5681 - val_loss: 32.0975 - val_mean_absolute_error: 32.0975\n",
            "\n",
            "Epoch 00009: val_loss improved from 32.31533 to 32.09746, saving model to Weights-009--32.09746.hdf5\n",
            "Epoch 10/50\n",
            "633/633 [==============================] - 0s 87us/step - loss: 12.4635 - mean_absolute_error: 12.4635 - val_loss: 32.3539 - val_mean_absolute_error: 32.3539\n",
            "\n",
            "Epoch 00010: val_loss did not improve from 32.09746\n",
            "Epoch 11/50\n",
            "633/633 [==============================] - 0s 88us/step - loss: 12.4947 - mean_absolute_error: 12.4947 - val_loss: 31.2945 - val_mean_absolute_error: 31.2945\n",
            "\n",
            "Epoch 00011: val_loss improved from 32.09746 to 31.29453, saving model to Weights-011--31.29453.hdf5\n",
            "Epoch 12/50\n",
            "633/633 [==============================] - 0s 87us/step - loss: 12.2129 - mean_absolute_error: 12.2129 - val_loss: 31.8089 - val_mean_absolute_error: 31.8089\n",
            "\n",
            "Epoch 00012: val_loss did not improve from 31.29453\n",
            "Epoch 13/50\n",
            "633/633 [==============================] - 0s 89us/step - loss: 11.9849 - mean_absolute_error: 11.9849 - val_loss: 31.4535 - val_mean_absolute_error: 31.4535\n",
            "\n",
            "Epoch 00013: val_loss did not improve from 31.29453\n",
            "Epoch 14/50\n",
            "633/633 [==============================] - 0s 97us/step - loss: 11.8566 - mean_absolute_error: 11.8566 - val_loss: 31.3673 - val_mean_absolute_error: 31.3673\n",
            "\n",
            "Epoch 00014: val_loss did not improve from 31.29453\n",
            "Epoch 15/50\n",
            "633/633 [==============================] - 0s 94us/step - loss: 11.7950 - mean_absolute_error: 11.7950 - val_loss: 31.3556 - val_mean_absolute_error: 31.3556\n",
            "\n",
            "Epoch 00015: val_loss did not improve from 31.29453\n",
            "Epoch 16/50\n",
            "633/633 [==============================] - 0s 89us/step - loss: 11.7058 - mean_absolute_error: 11.7058 - val_loss: 29.8741 - val_mean_absolute_error: 29.8741\n",
            "\n",
            "Epoch 00016: val_loss improved from 31.29453 to 29.87410, saving model to Weights-016--29.87410.hdf5\n",
            "Epoch 17/50\n",
            "633/633 [==============================] - 0s 93us/step - loss: 11.5868 - mean_absolute_error: 11.5868 - val_loss: 31.8118 - val_mean_absolute_error: 31.8118\n",
            "\n",
            "Epoch 00017: val_loss did not improve from 29.87410\n",
            "Epoch 18/50\n",
            "633/633 [==============================] - 0s 90us/step - loss: 11.7744 - mean_absolute_error: 11.7744 - val_loss: 31.8360 - val_mean_absolute_error: 31.8360\n",
            "\n",
            "Epoch 00018: val_loss did not improve from 29.87410\n",
            "Epoch 19/50\n",
            "633/633 [==============================] - 0s 96us/step - loss: 11.5734 - mean_absolute_error: 11.5734 - val_loss: 31.2087 - val_mean_absolute_error: 31.2087\n",
            "\n",
            "Epoch 00019: val_loss did not improve from 29.87410\n",
            "Epoch 20/50\n",
            "633/633 [==============================] - 0s 92us/step - loss: 11.6215 - mean_absolute_error: 11.6215 - val_loss: 29.1653 - val_mean_absolute_error: 29.1653\n",
            "\n",
            "Epoch 00020: val_loss improved from 29.87410 to 29.16526, saving model to Weights-020--29.16526.hdf5\n",
            "Epoch 21/50\n",
            "633/633 [==============================] - 0s 103us/step - loss: 11.7604 - mean_absolute_error: 11.7604 - val_loss: 30.6568 - val_mean_absolute_error: 30.6568\n",
            "\n",
            "Epoch 00021: val_loss did not improve from 29.16526\n",
            "Epoch 22/50\n",
            "633/633 [==============================] - 0s 88us/step - loss: 11.4660 - mean_absolute_error: 11.4660 - val_loss: 29.9685 - val_mean_absolute_error: 29.9685\n",
            "\n",
            "Epoch 00022: val_loss did not improve from 29.16526\n",
            "Epoch 23/50\n",
            "633/633 [==============================] - 0s 88us/step - loss: 11.2542 - mean_absolute_error: 11.2542 - val_loss: 29.9102 - val_mean_absolute_error: 29.9102\n",
            "\n",
            "Epoch 00023: val_loss did not improve from 29.16526\n",
            "Epoch 24/50\n",
            "633/633 [==============================] - 0s 103us/step - loss: 11.3073 - mean_absolute_error: 11.3073 - val_loss: 29.3041 - val_mean_absolute_error: 29.3041\n",
            "\n",
            "Epoch 00024: val_loss did not improve from 29.16526\n",
            "Epoch 25/50\n",
            "633/633 [==============================] - 0s 109us/step - loss: 11.3768 - mean_absolute_error: 11.3768 - val_loss: 30.0640 - val_mean_absolute_error: 30.0640\n",
            "\n",
            "Epoch 00025: val_loss did not improve from 29.16526\n",
            "Epoch 26/50\n",
            "633/633 [==============================] - 0s 93us/step - loss: 11.1841 - mean_absolute_error: 11.1841 - val_loss: 31.5931 - val_mean_absolute_error: 31.5931\n",
            "\n",
            "Epoch 00026: val_loss did not improve from 29.16526\n",
            "Epoch 27/50\n",
            "633/633 [==============================] - 0s 96us/step - loss: 11.2717 - mean_absolute_error: 11.2717 - val_loss: 31.3105 - val_mean_absolute_error: 31.3105\n",
            "\n",
            "Epoch 00027: val_loss did not improve from 29.16526\n",
            "Epoch 28/50\n",
            "633/633 [==============================] - 0s 90us/step - loss: 11.3530 - mean_absolute_error: 11.3530 - val_loss: 31.6708 - val_mean_absolute_error: 31.6708\n",
            "\n",
            "Epoch 00028: val_loss did not improve from 29.16526\n",
            "Epoch 29/50\n",
            "633/633 [==============================] - 0s 93us/step - loss: 10.8523 - mean_absolute_error: 10.8523 - val_loss: 31.2736 - val_mean_absolute_error: 31.2736\n",
            "\n",
            "Epoch 00029: val_loss did not improve from 29.16526\n",
            "Epoch 30/50\n",
            "633/633 [==============================] - 0s 89us/step - loss: 10.7922 - mean_absolute_error: 10.7922 - val_loss: 30.9954 - val_mean_absolute_error: 30.9954\n",
            "\n",
            "Epoch 00030: val_loss did not improve from 29.16526\n",
            "Epoch 31/50\n",
            "633/633 [==============================] - 0s 89us/step - loss: 10.7403 - mean_absolute_error: 10.7403 - val_loss: 32.2695 - val_mean_absolute_error: 32.2695\n",
            "\n",
            "Epoch 00031: val_loss did not improve from 29.16526\n",
            "Epoch 32/50\n",
            "633/633 [==============================] - 0s 88us/step - loss: 11.0017 - mean_absolute_error: 11.0017 - val_loss: 32.4724 - val_mean_absolute_error: 32.4724\n",
            "\n",
            "Epoch 00032: val_loss did not improve from 29.16526\n",
            "Epoch 33/50\n",
            "633/633 [==============================] - 0s 87us/step - loss: 10.8220 - mean_absolute_error: 10.8220 - val_loss: 31.6477 - val_mean_absolute_error: 31.6477\n",
            "\n",
            "Epoch 00033: val_loss did not improve from 29.16526\n",
            "Epoch 34/50\n",
            "633/633 [==============================] - 0s 86us/step - loss: 10.6932 - mean_absolute_error: 10.6932 - val_loss: 32.6339 - val_mean_absolute_error: 32.6339\n",
            "\n",
            "Epoch 00034: val_loss did not improve from 29.16526\n",
            "Epoch 35/50\n",
            "633/633 [==============================] - 0s 90us/step - loss: 11.1453 - mean_absolute_error: 11.1453 - val_loss: 30.1476 - val_mean_absolute_error: 30.1476\n",
            "\n",
            "Epoch 00035: val_loss did not improve from 29.16526\n",
            "Epoch 36/50\n",
            "633/633 [==============================] - 0s 90us/step - loss: 10.5850 - mean_absolute_error: 10.5850 - val_loss: 31.5035 - val_mean_absolute_error: 31.5035\n",
            "\n",
            "Epoch 00036: val_loss did not improve from 29.16526\n",
            "Epoch 37/50\n",
            "633/633 [==============================] - 0s 94us/step - loss: 10.5290 - mean_absolute_error: 10.5290 - val_loss: 31.4937 - val_mean_absolute_error: 31.4937\n",
            "\n",
            "Epoch 00037: val_loss did not improve from 29.16526\n",
            "Epoch 38/50\n",
            "633/633 [==============================] - 0s 94us/step - loss: 10.5419 - mean_absolute_error: 10.5419 - val_loss: 31.2522 - val_mean_absolute_error: 31.2522\n",
            "\n",
            "Epoch 00038: val_loss did not improve from 29.16526\n",
            "Epoch 39/50\n",
            "633/633 [==============================] - 0s 88us/step - loss: 10.5932 - mean_absolute_error: 10.5932 - val_loss: 32.2668 - val_mean_absolute_error: 32.2668\n",
            "\n",
            "Epoch 00039: val_loss did not improve from 29.16526\n",
            "Epoch 40/50\n",
            "633/633 [==============================] - 0s 97us/step - loss: 10.3961 - mean_absolute_error: 10.3961 - val_loss: 30.4237 - val_mean_absolute_error: 30.4237\n",
            "\n",
            "Epoch 00040: val_loss did not improve from 29.16526\n",
            "Epoch 41/50\n",
            "633/633 [==============================] - 0s 91us/step - loss: 10.5991 - mean_absolute_error: 10.5991 - val_loss: 30.0965 - val_mean_absolute_error: 30.0965\n",
            "\n",
            "Epoch 00041: val_loss did not improve from 29.16526\n",
            "Epoch 42/50\n",
            "633/633 [==============================] - 0s 91us/step - loss: 10.3498 - mean_absolute_error: 10.3498 - val_loss: 32.6647 - val_mean_absolute_error: 32.6647\n",
            "\n",
            "Epoch 00042: val_loss did not improve from 29.16526\n",
            "Epoch 43/50\n",
            "633/633 [==============================] - 0s 91us/step - loss: 10.7624 - mean_absolute_error: 10.7624 - val_loss: 31.8200 - val_mean_absolute_error: 31.8200\n",
            "\n",
            "Epoch 00043: val_loss did not improve from 29.16526\n",
            "Epoch 44/50\n",
            "633/633 [==============================] - 0s 89us/step - loss: 10.4292 - mean_absolute_error: 10.4292 - val_loss: 31.4004 - val_mean_absolute_error: 31.4004\n",
            "\n",
            "Epoch 00044: val_loss did not improve from 29.16526\n",
            "Epoch 45/50\n",
            "633/633 [==============================] - 0s 89us/step - loss: 10.3359 - mean_absolute_error: 10.3359 - val_loss: 32.4466 - val_mean_absolute_error: 32.4466\n",
            "\n",
            "Epoch 00045: val_loss did not improve from 29.16526\n",
            "Epoch 46/50\n",
            "633/633 [==============================] - 0s 88us/step - loss: 10.4527 - mean_absolute_error: 10.4527 - val_loss: 29.1434 - val_mean_absolute_error: 29.1434\n",
            "\n",
            "Epoch 00046: val_loss improved from 29.16526 to 29.14336, saving model to Weights-046--29.14336.hdf5\n",
            "Epoch 47/50\n",
            "633/633 [==============================] - 0s 91us/step - loss: 10.9489 - mean_absolute_error: 10.9489 - val_loss: 30.3744 - val_mean_absolute_error: 30.3744\n",
            "\n",
            "Epoch 00047: val_loss did not improve from 29.14336\n",
            "Epoch 48/50\n",
            "633/633 [==============================] - 0s 92us/step - loss: 10.4447 - mean_absolute_error: 10.4447 - val_loss: 32.0649 - val_mean_absolute_error: 32.0649\n",
            "\n",
            "Epoch 00048: val_loss did not improve from 29.14336\n",
            "Epoch 49/50\n",
            "633/633 [==============================] - 0s 89us/step - loss: 10.5331 - mean_absolute_error: 10.5331 - val_loss: 32.3604 - val_mean_absolute_error: 32.3604\n",
            "\n",
            "Epoch 00049: val_loss did not improve from 29.14336\n",
            "Epoch 50/50\n",
            "633/633 [==============================] - 0s 91us/step - loss: 10.4261 - mean_absolute_error: 10.4261 - val_loss: 31.5652 - val_mean_absolute_error: 31.5652\n",
            "\n",
            "Epoch 00050: val_loss did not improve from 29.14336\n"
          ],
          "name": "stdout"
        },
        {
          "output_type": "execute_result",
          "data": {
            "text/plain": [
              "<keras.callbacks.callbacks.History at 0x7f728a1f3630>"
            ]
          },
          "metadata": {
            "tags": []
          },
          "execution_count": 19
        }
      ]
    },
    {
      "cell_type": "code",
      "metadata": {
        "id": "DkfoVe17nB5F",
        "colab_type": "code",
        "colab": {}
      },
      "source": [
        "# Load weights file of the best model\n",
        "# weights_file = 'Weights-036--29.68963.hdf5' # choose the best checkpoint \n",
        "weights_file = '/content/drive/Shared drives/COS485 project/Weights/Weights-042--29.79151.hdf5'\n",
        "NN_model_2.load_weights(weights_file) # load it\n",
        "NN_model_2.compile(loss='mean_absolute_error', optimizer='adam', metrics=['mean_absolute_error'])"
      ],
      "execution_count": null,
      "outputs": []
    },
    {
      "cell_type": "markdown",
      "metadata": {
        "id": "Uvb4RNAnsVzd",
        "colab_type": "text"
      },
      "source": [
        "The validation loss is 29.14336"
      ]
    },
    {
      "cell_type": "markdown",
      "metadata": {
        "colab_type": "text",
        "id": "rFWe3w1XoKGP"
      },
      "source": [
        "#Network 3: 5 Layers, Sigmoid and Relu"
      ]
    },
    {
      "cell_type": "code",
      "metadata": {
        "colab_type": "code",
        "id": "-KcmYnGroKGT",
        "colab": {
          "base_uri": "https://localhost:8080/",
          "height": 404
        },
        "outputId": "a5b602c0-bb89-47d9-9a8b-6e57adbfceb4"
      },
      "source": [
        "from keras.callbacks import ModelCheckpoint\n",
        "from keras.models import Sequential\n",
        "from keras.layers import Dense, Activation, Flatten\n",
        "from sklearn.model_selection import train_test_split\n",
        "from sklearn.ensemble import RandomForestRegressor\n",
        "from sklearn.metrics import mean_absolute_error \n",
        "\n",
        "NN_model_5 = Sequential()\n",
        "\n",
        "#Input Layer:\n",
        "NN_model_5.add(Dense(128, kernel_initializer='normal', input_dim = train.shape[1], activation='relu'))\n",
        "\n",
        "#Five Hidden Layers:\n",
        "NN_model_5.add(Dense(256, kernel_initializer='normal', activation='sigmoid'))\n",
        "NN_model_5.add(Dense(256, kernel_initializer='normal', activation='relu'))\n",
        "NN_model_5.add(Dense(256, kernel_initializer='normal', activation='sigmoid'))\n",
        "NN_model_5.add(Dense(256, kernel_initializer='normal', activation='sigmoid'))\n",
        "NN_model_5.add(Dense(256, kernel_initializer='normal', activation='relu'))\n",
        "\n",
        "\n",
        "# The output layer:\n",
        "NN_model_5.add(Dense(1, kernel_initializer='normal', activation='linear'))\n",
        "\n",
        "# Compile the network :\n",
        "NN_model_5.compile(loss='mean_absolute_error', optimizer='adam', metrics=['mean_absolute_error'])\n",
        "NN_model_5.summary()"
      ],
      "execution_count": null,
      "outputs": [
        {
          "output_type": "stream",
          "text": [
            "Model: \"sequential_4\"\n",
            "_________________________________________________________________\n",
            "Layer (type)                 Output Shape              Param #   \n",
            "=================================================================\n",
            "dense_8 (Dense)              (None, 128)               768       \n",
            "_________________________________________________________________\n",
            "dense_9 (Dense)              (None, 256)               33024     \n",
            "_________________________________________________________________\n",
            "dense_10 (Dense)             (None, 256)               65792     \n",
            "_________________________________________________________________\n",
            "dense_11 (Dense)             (None, 256)               65792     \n",
            "_________________________________________________________________\n",
            "dense_12 (Dense)             (None, 256)               65792     \n",
            "_________________________________________________________________\n",
            "dense_13 (Dense)             (None, 256)               65792     \n",
            "_________________________________________________________________\n",
            "dense_14 (Dense)             (None, 1)                 257       \n",
            "=================================================================\n",
            "Total params: 297,217\n",
            "Trainable params: 297,217\n",
            "Non-trainable params: 0\n",
            "_________________________________________________________________\n"
          ],
          "name": "stdout"
        }
      ]
    },
    {
      "cell_type": "code",
      "metadata": {
        "colab_type": "code",
        "id": "Yq_WeEIzoKGt",
        "colab": {}
      },
      "source": [
        "checkpoint_name = 'Weights-{epoch:07d}--{val_loss:.5f}.hdf5' \n",
        "checkpoint = ModelCheckpoint(checkpoint_name, monitor='val_loss', verbose = 1, save_best_only = True, mode ='auto')\n",
        "callbacks_list = [checkpoint]"
      ],
      "execution_count": null,
      "outputs": []
    },
    {
      "cell_type": "code",
      "metadata": {
        "colab_type": "code",
        "id": "KBLSGYPCoKHF",
        "colab": {
          "base_uri": "https://localhost:8080/",
          "height": 1000
        },
        "outputId": "a123a440-3569-41c4-98ce-189a21d0dfef"
      },
      "source": [
        "NN_model_5.fit(train, train_target, epochs=50, batch_size=32, validation_split = 0.2, callbacks=callbacks_list)"
      ],
      "execution_count": null,
      "outputs": [
        {
          "output_type": "stream",
          "text": [
            "Train on 633 samples, validate on 159 samples\n",
            "Epoch 1/50\n",
            "633/633 [==============================] - 0s 427us/step - loss: 14.0276 - mean_absolute_error: 14.0276 - val_loss: 34.3133 - val_mean_absolute_error: 34.3133\n",
            "\n",
            "Epoch 00001: val_loss improved from inf to 34.31327, saving model to Weights-001--34.31327.hdf5\n",
            "Epoch 2/50\n",
            "633/633 [==============================] - 0s 174us/step - loss: 13.9797 - mean_absolute_error: 13.9797 - val_loss: 33.9303 - val_mean_absolute_error: 33.9303\n",
            "\n",
            "Epoch 00002: val_loss improved from 34.31327 to 33.93026, saving model to Weights-002--33.93026.hdf5\n",
            "Epoch 3/50\n",
            "633/633 [==============================] - 0s 177us/step - loss: 13.8597 - mean_absolute_error: 13.8597 - val_loss: 33.2891 - val_mean_absolute_error: 33.2891\n",
            "\n",
            "Epoch 00003: val_loss improved from 33.93026 to 33.28907, saving model to Weights-003--33.28907.hdf5\n",
            "Epoch 4/50\n",
            "633/633 [==============================] - 0s 179us/step - loss: 13.5754 - mean_absolute_error: 13.5754 - val_loss: 31.8107 - val_mean_absolute_error: 31.8107\n",
            "\n",
            "Epoch 00004: val_loss improved from 33.28907 to 31.81075, saving model to Weights-004--31.81075.hdf5\n",
            "Epoch 5/50\n",
            "633/633 [==============================] - 0s 182us/step - loss: 13.5386 - mean_absolute_error: 13.5386 - val_loss: 33.1556 - val_mean_absolute_error: 33.1556\n",
            "\n",
            "Epoch 00005: val_loss did not improve from 31.81075\n",
            "Epoch 6/50\n",
            "633/633 [==============================] - 0s 176us/step - loss: 13.0682 - mean_absolute_error: 13.0682 - val_loss: 33.8367 - val_mean_absolute_error: 33.8367\n",
            "\n",
            "Epoch 00006: val_loss did not improve from 31.81075\n",
            "Epoch 7/50\n",
            "633/633 [==============================] - 0s 181us/step - loss: 13.0083 - mean_absolute_error: 13.0083 - val_loss: 31.4748 - val_mean_absolute_error: 31.4748\n",
            "\n",
            "Epoch 00007: val_loss improved from 31.81075 to 31.47480, saving model to Weights-007--31.47480.hdf5\n",
            "Epoch 8/50\n",
            "633/633 [==============================] - 0s 178us/step - loss: 13.2558 - mean_absolute_error: 13.2558 - val_loss: 32.3401 - val_mean_absolute_error: 32.3401\n",
            "\n",
            "Epoch 00008: val_loss did not improve from 31.47480\n",
            "Epoch 9/50\n",
            "633/633 [==============================] - 0s 172us/step - loss: 12.9821 - mean_absolute_error: 12.9821 - val_loss: 34.2834 - val_mean_absolute_error: 34.2834\n",
            "\n",
            "Epoch 00009: val_loss did not improve from 31.47480\n",
            "Epoch 10/50\n",
            "633/633 [==============================] - 0s 191us/step - loss: 12.8721 - mean_absolute_error: 12.8721 - val_loss: 31.7432 - val_mean_absolute_error: 31.7432\n",
            "\n",
            "Epoch 00010: val_loss did not improve from 31.47480\n",
            "Epoch 11/50\n",
            "633/633 [==============================] - 0s 170us/step - loss: 12.6481 - mean_absolute_error: 12.6481 - val_loss: 33.1522 - val_mean_absolute_error: 33.1522\n",
            "\n",
            "Epoch 00011: val_loss did not improve from 31.47480\n",
            "Epoch 12/50\n",
            "633/633 [==============================] - 0s 175us/step - loss: 12.5333 - mean_absolute_error: 12.5333 - val_loss: 33.8363 - val_mean_absolute_error: 33.8363\n",
            "\n",
            "Epoch 00012: val_loss did not improve from 31.47480\n",
            "Epoch 13/50\n",
            "633/633 [==============================] - 0s 176us/step - loss: 12.5341 - mean_absolute_error: 12.5341 - val_loss: 32.1151 - val_mean_absolute_error: 32.1151\n",
            "\n",
            "Epoch 00013: val_loss did not improve from 31.47480\n",
            "Epoch 14/50\n",
            "633/633 [==============================] - 0s 186us/step - loss: 12.3200 - mean_absolute_error: 12.3200 - val_loss: 30.8905 - val_mean_absolute_error: 30.8905\n",
            "\n",
            "Epoch 00014: val_loss improved from 31.47480 to 30.89050, saving model to Weights-014--30.89050.hdf5\n",
            "Epoch 15/50\n",
            "633/633 [==============================] - 0s 180us/step - loss: 12.3230 - mean_absolute_error: 12.3230 - val_loss: 31.8958 - val_mean_absolute_error: 31.8958\n",
            "\n",
            "Epoch 00015: val_loss did not improve from 30.89050\n",
            "Epoch 16/50\n",
            "633/633 [==============================] - 0s 179us/step - loss: 12.2000 - mean_absolute_error: 12.2000 - val_loss: 31.5628 - val_mean_absolute_error: 31.5628\n",
            "\n",
            "Epoch 00016: val_loss did not improve from 30.89050\n",
            "Epoch 17/50\n",
            "633/633 [==============================] - 0s 183us/step - loss: 12.0168 - mean_absolute_error: 12.0168 - val_loss: 31.4393 - val_mean_absolute_error: 31.4393\n",
            "\n",
            "Epoch 00017: val_loss did not improve from 30.89050\n",
            "Epoch 18/50\n",
            "633/633 [==============================] - 0s 181us/step - loss: 11.9778 - mean_absolute_error: 11.9778 - val_loss: 31.3124 - val_mean_absolute_error: 31.3124\n",
            "\n",
            "Epoch 00018: val_loss did not improve from 30.89050\n",
            "Epoch 19/50\n",
            "633/633 [==============================] - 0s 172us/step - loss: 11.6974 - mean_absolute_error: 11.6974 - val_loss: 32.6365 - val_mean_absolute_error: 32.6365\n",
            "\n",
            "Epoch 00019: val_loss did not improve from 30.89050\n",
            "Epoch 20/50\n",
            "633/633 [==============================] - 0s 175us/step - loss: 11.7803 - mean_absolute_error: 11.7802 - val_loss: 33.0247 - val_mean_absolute_error: 33.0247\n",
            "\n",
            "Epoch 00020: val_loss did not improve from 30.89050\n",
            "Epoch 21/50\n",
            "633/633 [==============================] - 0s 169us/step - loss: 12.1713 - mean_absolute_error: 12.1713 - val_loss: 29.6720 - val_mean_absolute_error: 29.6721\n",
            "\n",
            "Epoch 00021: val_loss improved from 30.89050 to 29.67205, saving model to Weights-021--29.67205.hdf5\n",
            "Epoch 22/50\n",
            "633/633 [==============================] - 0s 183us/step - loss: 12.2001 - mean_absolute_error: 12.2001 - val_loss: 31.9214 - val_mean_absolute_error: 31.9214\n",
            "\n",
            "Epoch 00022: val_loss did not improve from 29.67205\n",
            "Epoch 23/50\n",
            "633/633 [==============================] - 0s 179us/step - loss: 12.0993 - mean_absolute_error: 12.0993 - val_loss: 28.7316 - val_mean_absolute_error: 28.7316\n",
            "\n",
            "Epoch 00023: val_loss improved from 29.67205 to 28.73163, saving model to Weights-023--28.73163.hdf5\n",
            "Epoch 24/50\n",
            "633/633 [==============================] - 0s 191us/step - loss: 12.5385 - mean_absolute_error: 12.5385 - val_loss: 31.1063 - val_mean_absolute_error: 31.1063\n",
            "\n",
            "Epoch 00024: val_loss did not improve from 28.73163\n",
            "Epoch 25/50\n",
            "633/633 [==============================] - 0s 174us/step - loss: 11.4396 - mean_absolute_error: 11.4396 - val_loss: 31.2198 - val_mean_absolute_error: 31.2198\n",
            "\n",
            "Epoch 00025: val_loss did not improve from 28.73163\n",
            "Epoch 26/50\n",
            "633/633 [==============================] - 0s 180us/step - loss: 11.2281 - mean_absolute_error: 11.2281 - val_loss: 29.5880 - val_mean_absolute_error: 29.5880\n",
            "\n",
            "Epoch 00026: val_loss did not improve from 28.73163\n",
            "Epoch 27/50\n",
            "633/633 [==============================] - 0s 171us/step - loss: 10.9793 - mean_absolute_error: 10.9793 - val_loss: 33.9970 - val_mean_absolute_error: 33.9970\n",
            "\n",
            "Epoch 00027: val_loss did not improve from 28.73163\n",
            "Epoch 28/50\n",
            "633/633 [==============================] - 0s 170us/step - loss: 11.8762 - mean_absolute_error: 11.8762 - val_loss: 29.9937 - val_mean_absolute_error: 29.9937\n",
            "\n",
            "Epoch 00028: val_loss did not improve from 28.73163\n",
            "Epoch 29/50\n",
            "633/633 [==============================] - 0s 169us/step - loss: 10.8598 - mean_absolute_error: 10.8598 - val_loss: 34.2391 - val_mean_absolute_error: 34.2391\n",
            "\n",
            "Epoch 00029: val_loss did not improve from 28.73163\n",
            "Epoch 30/50\n",
            "633/633 [==============================] - 0s 167us/step - loss: 12.8351 - mean_absolute_error: 12.8351 - val_loss: 30.9293 - val_mean_absolute_error: 30.9293\n",
            "\n",
            "Epoch 00030: val_loss did not improve from 28.73163\n",
            "Epoch 31/50\n",
            "633/633 [==============================] - 0s 180us/step - loss: 11.3402 - mean_absolute_error: 11.3402 - val_loss: 32.4913 - val_mean_absolute_error: 32.4913\n",
            "\n",
            "Epoch 00031: val_loss did not improve from 28.73163\n",
            "Epoch 32/50\n",
            "633/633 [==============================] - 0s 178us/step - loss: 11.0645 - mean_absolute_error: 11.0645 - val_loss: 29.9421 - val_mean_absolute_error: 29.9421\n",
            "\n",
            "Epoch 00032: val_loss did not improve from 28.73163\n",
            "Epoch 33/50\n",
            "633/633 [==============================] - 0s 169us/step - loss: 10.8891 - mean_absolute_error: 10.8891 - val_loss: 32.5225 - val_mean_absolute_error: 32.5225\n",
            "\n",
            "Epoch 00033: val_loss did not improve from 28.73163\n",
            "Epoch 34/50\n",
            "633/633 [==============================] - 0s 174us/step - loss: 10.6197 - mean_absolute_error: 10.6197 - val_loss: 31.2524 - val_mean_absolute_error: 31.2524\n",
            "\n",
            "Epoch 00034: val_loss did not improve from 28.73163\n",
            "Epoch 35/50\n",
            "633/633 [==============================] - 0s 175us/step - loss: 10.6321 - mean_absolute_error: 10.6321 - val_loss: 33.3271 - val_mean_absolute_error: 33.3271\n",
            "\n",
            "Epoch 00035: val_loss did not improve from 28.73163\n",
            "Epoch 36/50\n",
            "633/633 [==============================] - 0s 171us/step - loss: 10.8369 - mean_absolute_error: 10.8369 - val_loss: 30.8519 - val_mean_absolute_error: 30.8519\n",
            "\n",
            "Epoch 00036: val_loss did not improve from 28.73163\n",
            "Epoch 37/50\n",
            "633/633 [==============================] - 0s 171us/step - loss: 10.5527 - mean_absolute_error: 10.5527 - val_loss: 31.6584 - val_mean_absolute_error: 31.6584\n",
            "\n",
            "Epoch 00037: val_loss did not improve from 28.73163\n",
            "Epoch 38/50\n",
            "633/633 [==============================] - 0s 170us/step - loss: 12.0619 - mean_absolute_error: 12.0619 - val_loss: 35.1687 - val_mean_absolute_error: 35.1687\n",
            "\n",
            "Epoch 00038: val_loss did not improve from 28.73163\n",
            "Epoch 39/50\n",
            "633/633 [==============================] - 0s 178us/step - loss: 13.9571 - mean_absolute_error: 13.9571 - val_loss: 33.7474 - val_mean_absolute_error: 33.7474\n",
            "\n",
            "Epoch 00039: val_loss did not improve from 28.73163\n",
            "Epoch 40/50\n",
            "633/633 [==============================] - 0s 179us/step - loss: 13.3471 - mean_absolute_error: 13.3471 - val_loss: 32.2255 - val_mean_absolute_error: 32.2255\n",
            "\n",
            "Epoch 00040: val_loss did not improve from 28.73163\n",
            "Epoch 41/50\n",
            "633/633 [==============================] - 0s 172us/step - loss: 12.8495 - mean_absolute_error: 12.8495 - val_loss: 31.4408 - val_mean_absolute_error: 31.4408\n",
            "\n",
            "Epoch 00041: val_loss did not improve from 28.73163\n",
            "Epoch 42/50\n",
            "633/633 [==============================] - 0s 176us/step - loss: 12.4431 - mean_absolute_error: 12.4431 - val_loss: 31.0020 - val_mean_absolute_error: 31.0020\n",
            "\n",
            "Epoch 00042: val_loss did not improve from 28.73163\n",
            "Epoch 43/50\n",
            "633/633 [==============================] - 0s 171us/step - loss: 11.3734 - mean_absolute_error: 11.3734 - val_loss: 32.4968 - val_mean_absolute_error: 32.4968\n",
            "\n",
            "Epoch 00043: val_loss did not improve from 28.73163\n",
            "Epoch 44/50\n",
            "633/633 [==============================] - 0s 174us/step - loss: 12.1788 - mean_absolute_error: 12.1788 - val_loss: 33.9148 - val_mean_absolute_error: 33.9148\n",
            "\n",
            "Epoch 00044: val_loss did not improve from 28.73163\n",
            "Epoch 45/50\n",
            "633/633 [==============================] - 0s 172us/step - loss: 11.7279 - mean_absolute_error: 11.7279 - val_loss: 32.9175 - val_mean_absolute_error: 32.9175\n",
            "\n",
            "Epoch 00045: val_loss did not improve from 28.73163\n",
            "Epoch 46/50\n",
            "633/633 [==============================] - 0s 178us/step - loss: 10.9061 - mean_absolute_error: 10.9061 - val_loss: 32.3014 - val_mean_absolute_error: 32.3014\n",
            "\n",
            "Epoch 00046: val_loss did not improve from 28.73163\n",
            "Epoch 47/50\n",
            "633/633 [==============================] - 0s 169us/step - loss: 10.8227 - mean_absolute_error: 10.8227 - val_loss: 32.7837 - val_mean_absolute_error: 32.7837\n",
            "\n",
            "Epoch 00047: val_loss did not improve from 28.73163\n",
            "Epoch 48/50\n",
            "633/633 [==============================] - 0s 170us/step - loss: 10.9568 - mean_absolute_error: 10.9568 - val_loss: 33.3457 - val_mean_absolute_error: 33.3457\n",
            "\n",
            "Epoch 00048: val_loss did not improve from 28.73163\n",
            "Epoch 49/50\n",
            "633/633 [==============================] - 0s 179us/step - loss: 10.6153 - mean_absolute_error: 10.6153 - val_loss: 32.8929 - val_mean_absolute_error: 32.8929\n",
            "\n",
            "Epoch 00049: val_loss did not improve from 28.73163\n",
            "Epoch 50/50\n",
            "633/633 [==============================] - 0s 190us/step - loss: 10.7404 - mean_absolute_error: 10.7404 - val_loss: 31.2470 - val_mean_absolute_error: 31.2470\n",
            "\n",
            "Epoch 00050: val_loss did not improve from 28.73163\n"
          ],
          "name": "stdout"
        },
        {
          "output_type": "execute_result",
          "data": {
            "text/plain": [
              "<keras.callbacks.callbacks.History at 0x7f72892f1cc0>"
            ]
          },
          "metadata": {
            "tags": []
          },
          "execution_count": 24
        }
      ]
    },
    {
      "cell_type": "code",
      "metadata": {
        "colab_type": "code",
        "id": "fkng6xQmoKHW",
        "colab": {
          "base_uri": "https://localhost:8080/",
          "height": 387
        },
        "outputId": "ade848f3-b7a1-4293-c609-1645ddb08b6f"
      },
      "source": [
        "# Load weights file of the best model\n",
        "# weights_file = 'Weights-036--29.68963.hdf5' # choose the best checkpoint \n",
        "weights_file = '/content/drive/Shared drives/COS485 project/Weights/Weights-036--29.68963.hdf5'\n",
        "NN_model_5.load_weights(weights_file) # load it\n",
        "NN_model_5.compile(loss='mean_absolute_error', optimizer='adam', metrics=['mean_absolute_error'])"
      ],
      "execution_count": null,
      "outputs": [
        {
          "output_type": "error",
          "ename": "ValueError",
          "evalue": "ignored",
          "traceback": [
            "\u001b[0;31m---------------------------------------------------------------------------\u001b[0m",
            "\u001b[0;31mValueError\u001b[0m                                Traceback (most recent call last)",
            "\u001b[0;32m<ipython-input-25-36f5c234304d>\u001b[0m in \u001b[0;36m<module>\u001b[0;34m()\u001b[0m\n\u001b[1;32m      2\u001b[0m \u001b[0;31m# weights_file = 'Weights-036--29.68963.hdf5' # choose the best checkpoint\u001b[0m\u001b[0;34m\u001b[0m\u001b[0;34m\u001b[0m\u001b[0;34m\u001b[0m\u001b[0m\n\u001b[1;32m      3\u001b[0m \u001b[0mweights_file\u001b[0m \u001b[0;34m=\u001b[0m \u001b[0;34m'/content/drive/Shared drives/COS485 project/Weights/Weights-036--29.68963.hdf5'\u001b[0m\u001b[0;34m\u001b[0m\u001b[0;34m\u001b[0m\u001b[0m\n\u001b[0;32m----> 4\u001b[0;31m \u001b[0mNN_model_5\u001b[0m\u001b[0;34m.\u001b[0m\u001b[0mload_weights\u001b[0m\u001b[0;34m(\u001b[0m\u001b[0mweights_file\u001b[0m\u001b[0;34m)\u001b[0m \u001b[0;31m# load it\u001b[0m\u001b[0;34m\u001b[0m\u001b[0;34m\u001b[0m\u001b[0m\n\u001b[0m\u001b[1;32m      5\u001b[0m \u001b[0mNN_model_5\u001b[0m\u001b[0;34m.\u001b[0m\u001b[0mcompile\u001b[0m\u001b[0;34m(\u001b[0m\u001b[0mloss\u001b[0m\u001b[0;34m=\u001b[0m\u001b[0;34m'mean_absolute_error'\u001b[0m\u001b[0;34m,\u001b[0m \u001b[0moptimizer\u001b[0m\u001b[0;34m=\u001b[0m\u001b[0;34m'adam'\u001b[0m\u001b[0;34m,\u001b[0m \u001b[0mmetrics\u001b[0m\u001b[0;34m=\u001b[0m\u001b[0;34m[\u001b[0m\u001b[0;34m'mean_absolute_error'\u001b[0m\u001b[0;34m]\u001b[0m\u001b[0;34m)\u001b[0m\u001b[0;34m\u001b[0m\u001b[0;34m\u001b[0m\u001b[0m\n",
            "\u001b[0;32m/usr/local/lib/python3.6/dist-packages/keras/engine/saving.py\u001b[0m in \u001b[0;36mload_wrapper\u001b[0;34m(*args, **kwargs)\u001b[0m\n\u001b[1;32m    490\u001b[0m                 \u001b[0mos\u001b[0m\u001b[0;34m.\u001b[0m\u001b[0mremove\u001b[0m\u001b[0;34m(\u001b[0m\u001b[0mtmp_filepath\u001b[0m\u001b[0;34m)\u001b[0m\u001b[0;34m\u001b[0m\u001b[0;34m\u001b[0m\u001b[0m\n\u001b[1;32m    491\u001b[0m             \u001b[0;32mreturn\u001b[0m \u001b[0mres\u001b[0m\u001b[0;34m\u001b[0m\u001b[0;34m\u001b[0m\u001b[0m\n\u001b[0;32m--> 492\u001b[0;31m         \u001b[0;32mreturn\u001b[0m \u001b[0mload_function\u001b[0m\u001b[0;34m(\u001b[0m\u001b[0;34m*\u001b[0m\u001b[0margs\u001b[0m\u001b[0;34m,\u001b[0m \u001b[0;34m**\u001b[0m\u001b[0mkwargs\u001b[0m\u001b[0;34m)\u001b[0m\u001b[0;34m\u001b[0m\u001b[0;34m\u001b[0m\u001b[0m\n\u001b[0m\u001b[1;32m    493\u001b[0m \u001b[0;34m\u001b[0m\u001b[0m\n\u001b[1;32m    494\u001b[0m     \u001b[0;32mreturn\u001b[0m \u001b[0mload_wrapper\u001b[0m\u001b[0;34m\u001b[0m\u001b[0;34m\u001b[0m\u001b[0m\n",
            "\u001b[0;32m/usr/local/lib/python3.6/dist-packages/keras/engine/network.py\u001b[0m in \u001b[0;36mload_weights\u001b[0;34m(self, filepath, by_name, skip_mismatch, reshape)\u001b[0m\n\u001b[1;32m   1228\u001b[0m             \u001b[0;32melse\u001b[0m\u001b[0;34m:\u001b[0m\u001b[0;34m\u001b[0m\u001b[0;34m\u001b[0m\u001b[0m\n\u001b[1;32m   1229\u001b[0m                 saving.load_weights_from_hdf5_group(\n\u001b[0;32m-> 1230\u001b[0;31m                     f, self.layers, reshape=reshape)\n\u001b[0m\u001b[1;32m   1231\u001b[0m             \u001b[0;32mif\u001b[0m \u001b[0mhasattr\u001b[0m\u001b[0;34m(\u001b[0m\u001b[0mf\u001b[0m\u001b[0;34m,\u001b[0m \u001b[0;34m'close'\u001b[0m\u001b[0;34m)\u001b[0m\u001b[0;34m:\u001b[0m\u001b[0;34m\u001b[0m\u001b[0;34m\u001b[0m\u001b[0m\n\u001b[1;32m   1232\u001b[0m                 \u001b[0mf\u001b[0m\u001b[0;34m.\u001b[0m\u001b[0mclose\u001b[0m\u001b[0;34m(\u001b[0m\u001b[0;34m)\u001b[0m\u001b[0;34m\u001b[0m\u001b[0;34m\u001b[0m\u001b[0m\n",
            "\u001b[0;32m/usr/local/lib/python3.6/dist-packages/keras/engine/saving.py\u001b[0m in \u001b[0;36mload_weights_from_hdf5_group\u001b[0;34m(f, layers, reshape)\u001b[0m\n\u001b[1;32m   1207\u001b[0m                          \u001b[0;34m'containing '\u001b[0m \u001b[0;34m+\u001b[0m \u001b[0mstr\u001b[0m\u001b[0;34m(\u001b[0m\u001b[0mlen\u001b[0m\u001b[0;34m(\u001b[0m\u001b[0mlayer_names\u001b[0m\u001b[0;34m)\u001b[0m\u001b[0;34m)\u001b[0m \u001b[0;34m+\u001b[0m\u001b[0;34m\u001b[0m\u001b[0;34m\u001b[0m\u001b[0m\n\u001b[1;32m   1208\u001b[0m                          \u001b[0;34m' layers into a model with '\u001b[0m \u001b[0;34m+\u001b[0m\u001b[0;34m\u001b[0m\u001b[0;34m\u001b[0m\u001b[0m\n\u001b[0;32m-> 1209\u001b[0;31m                          str(len(filtered_layers)) + ' layers.')\n\u001b[0m\u001b[1;32m   1210\u001b[0m \u001b[0;34m\u001b[0m\u001b[0m\n\u001b[1;32m   1211\u001b[0m     \u001b[0;31m# We batch weight value assignments in a single backend call\u001b[0m\u001b[0;34m\u001b[0m\u001b[0;34m\u001b[0m\u001b[0;34m\u001b[0m\u001b[0m\n",
            "\u001b[0;31mValueError\u001b[0m: You are trying to load a weight file containing 3 layers into a model with 7 layers."
          ]
        }
      ]
    },
    {
      "cell_type": "markdown",
      "metadata": {
        "id": "gXe9sLfco8bj",
        "colab_type": "text"
      },
      "source": [
        "The validation loss is 28.73163"
      ]
    },
    {
      "cell_type": "markdown",
      "metadata": {
        "colab_type": "text",
        "id": "gBQF12SUpDJm"
      },
      "source": [
        "#Network 4: 10 Layers, Sigmoid and ReLu"
      ]
    },
    {
      "cell_type": "code",
      "metadata": {
        "colab_type": "code",
        "id": "Kl8_WFEBpDJs",
        "colab": {
          "base_uri": "https://localhost:8080/",
          "height": 580
        },
        "outputId": "f40c0567-0e30-4392-8e4b-1dfcade94218"
      },
      "source": [
        "from keras.callbacks import ModelCheckpoint\n",
        "from keras.models import Sequential\n",
        "from keras.layers import Dense, Activation, Flatten\n",
        "from sklearn.model_selection import train_test_split\n",
        "from sklearn.ensemble import RandomForestRegressor\n",
        "from sklearn.metrics import mean_absolute_error \n",
        "\n",
        "NN_model_10 = Sequential()\n",
        "\n",
        "#Input Layer:\n",
        "NN_model_10.add(Dense(128, kernel_initializer='normal', input_dim = train.shape[1], activation='relu'))\n",
        "\n",
        "#Ten Hidden Layers:\n",
        "NN_model_10.add(Dense(256, kernel_initializer='normal', activation='sigmoid'))\n",
        "NN_model_10.add(Dense(256, kernel_initializer='normal', activation='relu'))\n",
        "NN_model_10.add(Dense(256, kernel_initializer='normal', activation='sigmoid'))\n",
        "NN_model_10.add(Dense(256, kernel_initializer='normal', activation='relu'))\n",
        "NN_model_10.add(Dense(256, kernel_initializer='normal', activation='sigmoid'))\n",
        "NN_model_10.add(Dense(256, kernel_initializer='normal', activation='relu'))\n",
        "NN_model_10.add(Dense(256, kernel_initializer='normal', activation='sigmoid'))\n",
        "NN_model_10.add(Dense(256, kernel_initializer='normal', activation='relu'))\n",
        "NN_model_10.add(Dense(256, kernel_initializer='normal', activation='sigmoid'))\n",
        "NN_model_10.add(Dense(256, kernel_initializer='normal', activation='relu'))\n",
        "\n",
        "\n",
        "# The output layer:\n",
        "NN_model_10.add(Dense(1, kernel_initializer='normal', activation='linear'))\n",
        "\n",
        "# Compile the network :\n",
        "NN_model_10.compile(loss='mean_absolute_error', optimizer='adam', metrics=['mean_absolute_error'])\n",
        "NN_model_10.summary()"
      ],
      "execution_count": null,
      "outputs": [
        {
          "output_type": "stream",
          "text": [
            "Model: \"sequential_5\"\n",
            "_________________________________________________________________\n",
            "Layer (type)                 Output Shape              Param #   \n",
            "=================================================================\n",
            "dense_15 (Dense)             (None, 128)               768       \n",
            "_________________________________________________________________\n",
            "dense_16 (Dense)             (None, 256)               33024     \n",
            "_________________________________________________________________\n",
            "dense_17 (Dense)             (None, 256)               65792     \n",
            "_________________________________________________________________\n",
            "dense_18 (Dense)             (None, 256)               65792     \n",
            "_________________________________________________________________\n",
            "dense_19 (Dense)             (None, 256)               65792     \n",
            "_________________________________________________________________\n",
            "dense_20 (Dense)             (None, 256)               65792     \n",
            "_________________________________________________________________\n",
            "dense_21 (Dense)             (None, 256)               65792     \n",
            "_________________________________________________________________\n",
            "dense_22 (Dense)             (None, 256)               65792     \n",
            "_________________________________________________________________\n",
            "dense_23 (Dense)             (None, 256)               65792     \n",
            "_________________________________________________________________\n",
            "dense_24 (Dense)             (None, 256)               65792     \n",
            "_________________________________________________________________\n",
            "dense_25 (Dense)             (None, 256)               65792     \n",
            "_________________________________________________________________\n",
            "dense_26 (Dense)             (None, 1)                 257       \n",
            "=================================================================\n",
            "Total params: 626,177\n",
            "Trainable params: 626,177\n",
            "Non-trainable params: 0\n",
            "_________________________________________________________________\n"
          ],
          "name": "stdout"
        }
      ]
    },
    {
      "cell_type": "code",
      "metadata": {
        "colab_type": "code",
        "id": "MhxM85mDpDJ6",
        "colab": {}
      },
      "source": [
        "checkpoint_name = 'Weights-{epoch:12d}--{val_loss:.5f}.hdf5' \n",
        "checkpoint = ModelCheckpoint(checkpoint_name, monitor='val_loss', verbose = 1, save_best_only = True, mode ='auto')\n",
        "callbacks_list = [checkpoint]"
      ],
      "execution_count": null,
      "outputs": []
    },
    {
      "cell_type": "code",
      "metadata": {
        "colab_type": "code",
        "id": "jWQ4oOp2pDKC",
        "colab": {
          "base_uri": "https://localhost:8080/",
          "height": 1000
        },
        "outputId": "e09fcec7-35ae-494d-ddcb-dd67979baac8"
      },
      "source": [
        "NN_model_10.fit(train, train_target, epochs=50, batch_size=32, validation_split = 0.2, callbacks=callbacks_list)"
      ],
      "execution_count": null,
      "outputs": [
        {
          "output_type": "stream",
          "text": [
            "Train on 633 samples, validate on 159 samples\n",
            "Epoch 1/50\n",
            "633/633 [==============================] - 0s 746us/step - loss: 14.0012 - mean_absolute_error: 14.0012 - val_loss: 34.4675 - val_mean_absolute_error: 34.4675\n",
            "\n",
            "Epoch 00001: val_loss improved from inf to 34.46754, saving model to Weights-001--34.46754.hdf5\n",
            "Epoch 2/50\n",
            "633/633 [==============================] - 0s 325us/step - loss: 13.9933 - mean_absolute_error: 13.9933 - val_loss: 34.1750 - val_mean_absolute_error: 34.1750\n",
            "\n",
            "Epoch 00002: val_loss improved from 34.46754 to 34.17497, saving model to Weights-002--34.17497.hdf5\n",
            "Epoch 3/50\n",
            "633/633 [==============================] - 0s 333us/step - loss: 13.9806 - mean_absolute_error: 13.9806 - val_loss: 34.2125 - val_mean_absolute_error: 34.2125\n",
            "\n",
            "Epoch 00003: val_loss did not improve from 34.17497\n",
            "Epoch 4/50\n",
            "633/633 [==============================] - 0s 321us/step - loss: 13.9810 - mean_absolute_error: 13.9810 - val_loss: 34.1753 - val_mean_absolute_error: 34.1753\n",
            "\n",
            "Epoch 00004: val_loss did not improve from 34.17497\n",
            "Epoch 5/50\n",
            "633/633 [==============================] - 0s 333us/step - loss: 13.9672 - mean_absolute_error: 13.9672 - val_loss: 33.9651 - val_mean_absolute_error: 33.9651\n",
            "\n",
            "Epoch 00005: val_loss improved from 34.17497 to 33.96508, saving model to Weights-005--33.96508.hdf5\n",
            "Epoch 6/50\n",
            "633/633 [==============================] - 0s 305us/step - loss: 13.9544 - mean_absolute_error: 13.9544 - val_loss: 34.0467 - val_mean_absolute_error: 34.0467\n",
            "\n",
            "Epoch 00006: val_loss did not improve from 33.96508\n",
            "Epoch 7/50\n",
            "633/633 [==============================] - 0s 340us/step - loss: 13.9571 - mean_absolute_error: 13.9571 - val_loss: 34.0175 - val_mean_absolute_error: 34.0175\n",
            "\n",
            "Epoch 00007: val_loss did not improve from 33.96508\n",
            "Epoch 8/50\n",
            "633/633 [==============================] - 0s 326us/step - loss: 13.9594 - mean_absolute_error: 13.9594 - val_loss: 34.4656 - val_mean_absolute_error: 34.4656\n",
            "\n",
            "Epoch 00008: val_loss did not improve from 33.96508\n",
            "Epoch 9/50\n",
            "633/633 [==============================] - 0s 319us/step - loss: 14.0103 - mean_absolute_error: 14.0103 - val_loss: 34.2100 - val_mean_absolute_error: 34.2100\n",
            "\n",
            "Epoch 00009: val_loss did not improve from 33.96508\n",
            "Epoch 10/50\n",
            "633/633 [==============================] - 0s 306us/step - loss: 13.9762 - mean_absolute_error: 13.9762 - val_loss: 34.1952 - val_mean_absolute_error: 34.1952\n",
            "\n",
            "Epoch 00010: val_loss did not improve from 33.96508\n",
            "Epoch 11/50\n",
            "633/633 [==============================] - 0s 325us/step - loss: 13.9832 - mean_absolute_error: 13.9832 - val_loss: 34.2426 - val_mean_absolute_error: 34.2425\n",
            "\n",
            "Epoch 00011: val_loss did not improve from 33.96508\n",
            "Epoch 12/50\n",
            "633/633 [==============================] - 0s 325us/step - loss: 13.8645 - mean_absolute_error: 13.8645 - val_loss: 33.1066 - val_mean_absolute_error: 33.1066\n",
            "\n",
            "Epoch 00012: val_loss improved from 33.96508 to 33.10664, saving model to Weights-012--33.10664.hdf5\n",
            "Epoch 13/50\n",
            "633/633 [==============================] - 0s 349us/step - loss: 13.6868 - mean_absolute_error: 13.6868 - val_loss: 32.5796 - val_mean_absolute_error: 32.5796\n",
            "\n",
            "Epoch 00013: val_loss improved from 33.10664 to 32.57963, saving model to Weights-013--32.57963.hdf5\n",
            "Epoch 14/50\n",
            "633/633 [==============================] - 0s 311us/step - loss: 13.7199 - mean_absolute_error: 13.7199 - val_loss: 35.0185 - val_mean_absolute_error: 35.0185\n",
            "\n",
            "Epoch 00014: val_loss did not improve from 32.57963\n",
            "Epoch 15/50\n",
            "633/633 [==============================] - 0s 317us/step - loss: 13.7303 - mean_absolute_error: 13.7303 - val_loss: 32.4749 - val_mean_absolute_error: 32.4749\n",
            "\n",
            "Epoch 00015: val_loss improved from 32.57963 to 32.47493, saving model to Weights-015--32.47493.hdf5\n",
            "Epoch 16/50\n",
            "633/633 [==============================] - 0s 321us/step - loss: 13.6529 - mean_absolute_error: 13.6529 - val_loss: 33.0526 - val_mean_absolute_error: 33.0526\n",
            "\n",
            "Epoch 00016: val_loss did not improve from 32.47493\n",
            "Epoch 17/50\n",
            "633/633 [==============================] - 0s 339us/step - loss: 13.5579 - mean_absolute_error: 13.5579 - val_loss: 33.4288 - val_mean_absolute_error: 33.4288\n",
            "\n",
            "Epoch 00017: val_loss did not improve from 32.47493\n",
            "Epoch 18/50\n",
            "633/633 [==============================] - 0s 329us/step - loss: 13.8299 - mean_absolute_error: 13.8299 - val_loss: 34.2997 - val_mean_absolute_error: 34.2997\n",
            "\n",
            "Epoch 00018: val_loss did not improve from 32.47493\n",
            "Epoch 19/50\n",
            "633/633 [==============================] - 0s 340us/step - loss: 13.9929 - mean_absolute_error: 13.9929 - val_loss: 34.0825 - val_mean_absolute_error: 34.0825\n",
            "\n",
            "Epoch 00019: val_loss did not improve from 32.47493\n",
            "Epoch 20/50\n",
            "633/633 [==============================] - 0s 316us/step - loss: 13.9530 - mean_absolute_error: 13.9530 - val_loss: 33.9473 - val_mean_absolute_error: 33.9473\n",
            "\n",
            "Epoch 00020: val_loss did not improve from 32.47493\n",
            "Epoch 21/50\n",
            "633/633 [==============================] - 0s 324us/step - loss: 13.9575 - mean_absolute_error: 13.9575 - val_loss: 34.0667 - val_mean_absolute_error: 34.0667\n",
            "\n",
            "Epoch 00021: val_loss did not improve from 32.47493\n",
            "Epoch 22/50\n",
            "633/633 [==============================] - 0s 335us/step - loss: 13.9588 - mean_absolute_error: 13.9588 - val_loss: 34.0179 - val_mean_absolute_error: 34.0179\n",
            "\n",
            "Epoch 00022: val_loss did not improve from 32.47493\n",
            "Epoch 23/50\n",
            "633/633 [==============================] - 0s 329us/step - loss: 13.9532 - mean_absolute_error: 13.9532 - val_loss: 34.0096 - val_mean_absolute_error: 34.0096\n",
            "\n",
            "Epoch 00023: val_loss did not improve from 32.47493\n",
            "Epoch 24/50\n",
            "633/633 [==============================] - 0s 327us/step - loss: 13.9578 - mean_absolute_error: 13.9578 - val_loss: 34.0016 - val_mean_absolute_error: 34.0016\n",
            "\n",
            "Epoch 00024: val_loss did not improve from 32.47493\n",
            "Epoch 25/50\n",
            "633/633 [==============================] - 0s 320us/step - loss: 13.9525 - mean_absolute_error: 13.9525 - val_loss: 34.0120 - val_mean_absolute_error: 34.0120\n",
            "\n",
            "Epoch 00025: val_loss did not improve from 32.47493\n",
            "Epoch 26/50\n",
            "633/633 [==============================] - 0s 322us/step - loss: 13.9537 - mean_absolute_error: 13.9537 - val_loss: 33.9991 - val_mean_absolute_error: 33.9991\n",
            "\n",
            "Epoch 00026: val_loss did not improve from 32.47493\n",
            "Epoch 27/50\n",
            "633/633 [==============================] - 0s 350us/step - loss: 13.9507 - mean_absolute_error: 13.9507 - val_loss: 33.9850 - val_mean_absolute_error: 33.9850\n",
            "\n",
            "Epoch 00027: val_loss did not improve from 32.47493\n",
            "Epoch 28/50\n",
            "633/633 [==============================] - 0s 310us/step - loss: 13.9516 - mean_absolute_error: 13.9516 - val_loss: 33.9894 - val_mean_absolute_error: 33.9894\n",
            "\n",
            "Epoch 00028: val_loss did not improve from 32.47493\n",
            "Epoch 29/50\n",
            "633/633 [==============================] - 0s 314us/step - loss: 13.9555 - mean_absolute_error: 13.9555 - val_loss: 34.0379 - val_mean_absolute_error: 34.0379\n",
            "\n",
            "Epoch 00029: val_loss did not improve from 32.47493\n",
            "Epoch 30/50\n",
            "633/633 [==============================] - 0s 302us/step - loss: 13.9580 - mean_absolute_error: 13.9580 - val_loss: 34.0680 - val_mean_absolute_error: 34.0680\n",
            "\n",
            "Epoch 00030: val_loss did not improve from 32.47493\n",
            "Epoch 31/50\n",
            "633/633 [==============================] - 0s 314us/step - loss: 13.9569 - mean_absolute_error: 13.9569 - val_loss: 34.0058 - val_mean_absolute_error: 34.0058\n",
            "\n",
            "Epoch 00031: val_loss did not improve from 32.47493\n",
            "Epoch 32/50\n",
            "633/633 [==============================] - 0s 322us/step - loss: 13.9543 - mean_absolute_error: 13.9543 - val_loss: 33.9967 - val_mean_absolute_error: 33.9967\n",
            "\n",
            "Epoch 00032: val_loss did not improve from 32.47493\n",
            "Epoch 33/50\n",
            "633/633 [==============================] - 0s 317us/step - loss: 13.9564 - mean_absolute_error: 13.9564 - val_loss: 34.0433 - val_mean_absolute_error: 34.0434\n",
            "\n",
            "Epoch 00033: val_loss did not improve from 32.47493\n",
            "Epoch 34/50\n",
            "633/633 [==============================] - 0s 302us/step - loss: 13.9543 - mean_absolute_error: 13.9543 - val_loss: 34.0222 - val_mean_absolute_error: 34.0222\n",
            "\n",
            "Epoch 00034: val_loss did not improve from 32.47493\n",
            "Epoch 35/50\n",
            "633/633 [==============================] - 0s 313us/step - loss: 13.9524 - mean_absolute_error: 13.9524 - val_loss: 33.9986 - val_mean_absolute_error: 33.9986\n",
            "\n",
            "Epoch 00035: val_loss did not improve from 32.47493\n",
            "Epoch 36/50\n",
            "633/633 [==============================] - 0s 312us/step - loss: 13.9536 - mean_absolute_error: 13.9536 - val_loss: 33.9936 - val_mean_absolute_error: 33.9936\n",
            "\n",
            "Epoch 00036: val_loss did not improve from 32.47493\n",
            "Epoch 37/50\n",
            "633/633 [==============================] - 0s 379us/step - loss: 13.9495 - mean_absolute_error: 13.9495 - val_loss: 34.0566 - val_mean_absolute_error: 34.0566\n",
            "\n",
            "Epoch 00037: val_loss did not improve from 32.47493\n",
            "Epoch 38/50\n",
            "633/633 [==============================] - 0s 312us/step - loss: 13.9592 - mean_absolute_error: 13.9592 - val_loss: 33.9905 - val_mean_absolute_error: 33.9905\n",
            "\n",
            "Epoch 00038: val_loss did not improve from 32.47493\n",
            "Epoch 39/50\n",
            "633/633 [==============================] - 0s 327us/step - loss: 13.9497 - mean_absolute_error: 13.9497 - val_loss: 34.0429 - val_mean_absolute_error: 34.0429\n",
            "\n",
            "Epoch 00039: val_loss did not improve from 32.47493\n",
            "Epoch 40/50\n",
            "633/633 [==============================] - 0s 320us/step - loss: 13.9573 - mean_absolute_error: 13.9573 - val_loss: 33.9917 - val_mean_absolute_error: 33.9917\n",
            "\n",
            "Epoch 00040: val_loss did not improve from 32.47493\n",
            "Epoch 41/50\n",
            "633/633 [==============================] - 0s 329us/step - loss: 13.9591 - mean_absolute_error: 13.9591 - val_loss: 34.0004 - val_mean_absolute_error: 34.0004\n",
            "\n",
            "Epoch 00041: val_loss did not improve from 32.47493\n",
            "Epoch 42/50\n",
            "633/633 [==============================] - 0s 327us/step - loss: 13.9536 - mean_absolute_error: 13.9536 - val_loss: 34.0003 - val_mean_absolute_error: 34.0003\n",
            "\n",
            "Epoch 00042: val_loss did not improve from 32.47493\n",
            "Epoch 43/50\n",
            "633/633 [==============================] - 0s 324us/step - loss: 13.9604 - mean_absolute_error: 13.9604 - val_loss: 34.0459 - val_mean_absolute_error: 34.0459\n",
            "\n",
            "Epoch 00043: val_loss did not improve from 32.47493\n",
            "Epoch 44/50\n",
            "633/633 [==============================] - 0s 320us/step - loss: 13.9566 - mean_absolute_error: 13.9566 - val_loss: 34.0415 - val_mean_absolute_error: 34.0415\n",
            "\n",
            "Epoch 00044: val_loss did not improve from 32.47493\n",
            "Epoch 45/50\n",
            "633/633 [==============================] - 0s 318us/step - loss: 13.9549 - mean_absolute_error: 13.9549 - val_loss: 34.0575 - val_mean_absolute_error: 34.0575\n",
            "\n",
            "Epoch 00045: val_loss did not improve from 32.47493\n",
            "Epoch 46/50\n",
            "633/633 [==============================] - 0s 312us/step - loss: 13.9553 - mean_absolute_error: 13.9553 - val_loss: 33.9655 - val_mean_absolute_error: 33.9655\n",
            "\n",
            "Epoch 00046: val_loss did not improve from 32.47493\n",
            "Epoch 47/50\n",
            "633/633 [==============================] - 0s 335us/step - loss: 13.9586 - mean_absolute_error: 13.9586 - val_loss: 34.1077 - val_mean_absolute_error: 34.1077\n",
            "\n",
            "Epoch 00047: val_loss did not improve from 32.47493\n",
            "Epoch 48/50\n",
            "633/633 [==============================] - 0s 318us/step - loss: 13.9572 - mean_absolute_error: 13.9572 - val_loss: 34.0267 - val_mean_absolute_error: 34.0267\n",
            "\n",
            "Epoch 00048: val_loss did not improve from 32.47493\n",
            "Epoch 49/50\n",
            "633/633 [==============================] - 0s 316us/step - loss: 13.9571 - mean_absolute_error: 13.9571 - val_loss: 34.0699 - val_mean_absolute_error: 34.0699\n",
            "\n",
            "Epoch 00049: val_loss did not improve from 32.47493\n",
            "Epoch 50/50\n",
            "633/633 [==============================] - 0s 317us/step - loss: 13.9566 - mean_absolute_error: 13.9566 - val_loss: 33.9895 - val_mean_absolute_error: 33.9895\n",
            "\n",
            "Epoch 00050: val_loss did not improve from 32.47493\n"
          ],
          "name": "stdout"
        },
        {
          "output_type": "execute_result",
          "data": {
            "text/plain": [
              "<keras.callbacks.callbacks.History at 0x7f72893531d0>"
            ]
          },
          "metadata": {
            "tags": []
          },
          "execution_count": 28
        }
      ]
    },
    {
      "cell_type": "markdown",
      "metadata": {
        "id": "LTWp0YrTsENn",
        "colab_type": "text"
      },
      "source": [
        "The validation loss is 32.47493"
      ]
    },
    {
      "cell_type": "code",
      "metadata": {
        "colab_type": "code",
        "id": "6GTG4qswpDKO",
        "colab": {
          "base_uri": "https://localhost:8080/",
          "height": 387
        },
        "outputId": "6b1df34a-1d77-4d08-ea7e-066b59656072"
      },
      "source": [
        "# Load weights file of the best model\n",
        "# weights_file = 'Weights-036--29.68963.hdf5' # choose the best checkpoint \n",
        "weights_file = '/content/drive/Shared drives/COS485 project/Weights/Weights-036--29.68963.hdf5'\n",
        "NN_model_10.load_weights(weights_file) # load it\n",
        "NN_model_10.compile(loss='mean_absolute_error', optimizer='adam', metrics=['mean_absolute_error'])"
      ],
      "execution_count": null,
      "outputs": [
        {
          "output_type": "error",
          "ename": "ValueError",
          "evalue": "ignored",
          "traceback": [
            "\u001b[0;31m---------------------------------------------------------------------------\u001b[0m",
            "\u001b[0;31mValueError\u001b[0m                                Traceback (most recent call last)",
            "\u001b[0;32m<ipython-input-29-3e04b401a1fa>\u001b[0m in \u001b[0;36m<module>\u001b[0;34m()\u001b[0m\n\u001b[1;32m      2\u001b[0m \u001b[0;31m# weights_file = 'Weights-036--29.68963.hdf5' # choose the best checkpoint\u001b[0m\u001b[0;34m\u001b[0m\u001b[0;34m\u001b[0m\u001b[0;34m\u001b[0m\u001b[0m\n\u001b[1;32m      3\u001b[0m \u001b[0mweights_file\u001b[0m \u001b[0;34m=\u001b[0m \u001b[0;34m'/content/drive/Shared drives/COS485 project/Weights/Weights-036--29.68963.hdf5'\u001b[0m\u001b[0;34m\u001b[0m\u001b[0;34m\u001b[0m\u001b[0m\n\u001b[0;32m----> 4\u001b[0;31m \u001b[0mNN_model_10\u001b[0m\u001b[0;34m.\u001b[0m\u001b[0mload_weights\u001b[0m\u001b[0;34m(\u001b[0m\u001b[0mweights_file\u001b[0m\u001b[0;34m)\u001b[0m \u001b[0;31m# load it\u001b[0m\u001b[0;34m\u001b[0m\u001b[0;34m\u001b[0m\u001b[0m\n\u001b[0m\u001b[1;32m      5\u001b[0m \u001b[0mNN_model_10\u001b[0m\u001b[0;34m.\u001b[0m\u001b[0mcompile\u001b[0m\u001b[0;34m(\u001b[0m\u001b[0mloss\u001b[0m\u001b[0;34m=\u001b[0m\u001b[0;34m'mean_absolute_error'\u001b[0m\u001b[0;34m,\u001b[0m \u001b[0moptimizer\u001b[0m\u001b[0;34m=\u001b[0m\u001b[0;34m'adam'\u001b[0m\u001b[0;34m,\u001b[0m \u001b[0mmetrics\u001b[0m\u001b[0;34m=\u001b[0m\u001b[0;34m[\u001b[0m\u001b[0;34m'mean_absolute_error'\u001b[0m\u001b[0;34m]\u001b[0m\u001b[0;34m)\u001b[0m\u001b[0;34m\u001b[0m\u001b[0;34m\u001b[0m\u001b[0m\n",
            "\u001b[0;32m/usr/local/lib/python3.6/dist-packages/keras/engine/saving.py\u001b[0m in \u001b[0;36mload_wrapper\u001b[0;34m(*args, **kwargs)\u001b[0m\n\u001b[1;32m    490\u001b[0m                 \u001b[0mos\u001b[0m\u001b[0;34m.\u001b[0m\u001b[0mremove\u001b[0m\u001b[0;34m(\u001b[0m\u001b[0mtmp_filepath\u001b[0m\u001b[0;34m)\u001b[0m\u001b[0;34m\u001b[0m\u001b[0;34m\u001b[0m\u001b[0m\n\u001b[1;32m    491\u001b[0m             \u001b[0;32mreturn\u001b[0m \u001b[0mres\u001b[0m\u001b[0;34m\u001b[0m\u001b[0;34m\u001b[0m\u001b[0m\n\u001b[0;32m--> 492\u001b[0;31m         \u001b[0;32mreturn\u001b[0m \u001b[0mload_function\u001b[0m\u001b[0;34m(\u001b[0m\u001b[0;34m*\u001b[0m\u001b[0margs\u001b[0m\u001b[0;34m,\u001b[0m \u001b[0;34m**\u001b[0m\u001b[0mkwargs\u001b[0m\u001b[0;34m)\u001b[0m\u001b[0;34m\u001b[0m\u001b[0;34m\u001b[0m\u001b[0m\n\u001b[0m\u001b[1;32m    493\u001b[0m \u001b[0;34m\u001b[0m\u001b[0m\n\u001b[1;32m    494\u001b[0m     \u001b[0;32mreturn\u001b[0m \u001b[0mload_wrapper\u001b[0m\u001b[0;34m\u001b[0m\u001b[0;34m\u001b[0m\u001b[0m\n",
            "\u001b[0;32m/usr/local/lib/python3.6/dist-packages/keras/engine/network.py\u001b[0m in \u001b[0;36mload_weights\u001b[0;34m(self, filepath, by_name, skip_mismatch, reshape)\u001b[0m\n\u001b[1;32m   1228\u001b[0m             \u001b[0;32melse\u001b[0m\u001b[0;34m:\u001b[0m\u001b[0;34m\u001b[0m\u001b[0;34m\u001b[0m\u001b[0m\n\u001b[1;32m   1229\u001b[0m                 saving.load_weights_from_hdf5_group(\n\u001b[0;32m-> 1230\u001b[0;31m                     f, self.layers, reshape=reshape)\n\u001b[0m\u001b[1;32m   1231\u001b[0m             \u001b[0;32mif\u001b[0m \u001b[0mhasattr\u001b[0m\u001b[0;34m(\u001b[0m\u001b[0mf\u001b[0m\u001b[0;34m,\u001b[0m \u001b[0;34m'close'\u001b[0m\u001b[0;34m)\u001b[0m\u001b[0;34m:\u001b[0m\u001b[0;34m\u001b[0m\u001b[0;34m\u001b[0m\u001b[0m\n\u001b[1;32m   1232\u001b[0m                 \u001b[0mf\u001b[0m\u001b[0;34m.\u001b[0m\u001b[0mclose\u001b[0m\u001b[0;34m(\u001b[0m\u001b[0;34m)\u001b[0m\u001b[0;34m\u001b[0m\u001b[0;34m\u001b[0m\u001b[0m\n",
            "\u001b[0;32m/usr/local/lib/python3.6/dist-packages/keras/engine/saving.py\u001b[0m in \u001b[0;36mload_weights_from_hdf5_group\u001b[0;34m(f, layers, reshape)\u001b[0m\n\u001b[1;32m   1207\u001b[0m                          \u001b[0;34m'containing '\u001b[0m \u001b[0;34m+\u001b[0m \u001b[0mstr\u001b[0m\u001b[0;34m(\u001b[0m\u001b[0mlen\u001b[0m\u001b[0;34m(\u001b[0m\u001b[0mlayer_names\u001b[0m\u001b[0;34m)\u001b[0m\u001b[0;34m)\u001b[0m \u001b[0;34m+\u001b[0m\u001b[0;34m\u001b[0m\u001b[0;34m\u001b[0m\u001b[0m\n\u001b[1;32m   1208\u001b[0m                          \u001b[0;34m' layers into a model with '\u001b[0m \u001b[0;34m+\u001b[0m\u001b[0;34m\u001b[0m\u001b[0;34m\u001b[0m\u001b[0m\n\u001b[0;32m-> 1209\u001b[0;31m                          str(len(filtered_layers)) + ' layers.')\n\u001b[0m\u001b[1;32m   1210\u001b[0m \u001b[0;34m\u001b[0m\u001b[0m\n\u001b[1;32m   1211\u001b[0m     \u001b[0;31m# We batch weight value assignments in a single backend call\u001b[0m\u001b[0;34m\u001b[0m\u001b[0;34m\u001b[0m\u001b[0;34m\u001b[0m\u001b[0m\n",
            "\u001b[0;31mValueError\u001b[0m: You are trying to load a weight file containing 3 layers into a model with 12 layers."
          ]
        }
      ]
    },
    {
      "cell_type": "markdown",
      "metadata": {
        "id": "oNqADZ3qHJTb",
        "colab_type": "text"
      },
      "source": [
        "#Misc/ NOT IN USE"
      ]
    },
    {
      "cell_type": "code",
      "metadata": {
        "id": "e5Uenieu3888",
        "colab_type": "code",
        "colab": {}
      },
      "source": [
        "seasons = [] # a matrix of \"weeks\" matrices \n",
        "# weeks = [] # a matrix of Week objects - there will be many of these\n",
        "\n",
        "class Week: # an object holding 3 features\n",
        "  def __init__(self, weekNumber, cases, temperature):\n",
        "    self.weekNumber = weekNumber\n",
        "    self.cases = cases\n",
        "    self.temperature = temperature\n",
        "\n",
        "# take in data and populate seasons[] with weeks[] matrices\n",
        "# and weeks[] matrices with Week objects\n",
        "\n",
        "numberOfSeasons = len(seasons)\n",
        "# seasonLength = len(weeks)\n",
        "for i in range(1, numberOfSeasons) # so we start at  1, not 0\n",
        "  # should be consistent across the line anyway, but just in case\n",
        "  seasonLength = len(seasons[i]) \n",
        "  for j in range(1, seasonLength) # CDC numbers the weeks starting at 1\n",
        "    weekNumber = j\n",
        "    cases = \n",
        "    temperature = \n",
        "    w = Week(weekNumber, cases, temperature)\n",
        "\n"
      ],
      "execution_count": null,
      "outputs": []
    },
    {
      "cell_type": "code",
      "metadata": {
        "id": "N4LECHMDnnDR",
        "colab_type": "code",
        "colab": {}
      },
      "source": [
        "# fn to visualize training \n",
        "def visualize_training(errsq, errcl, x0, x1, x2, W1, t):\n",
        "    # convert things to numpy, numpy is easier to use with matplotlib \n",
        "    errsq, errcl, x0, x1, x2, W1 = [x.numpy() for x in [errsq, errcl, x0, x1, x2, W1]]\n",
        "    \n",
        "    # visualization\n",
        "    avgerrsq = np.divide( np.cumsum(errsq[0:t]), np.arange(1,t+1) )\n",
        "    avgerrcl = np.divide( np.cumsum(errcl[0:t]), np.arange(1,t+1) )\n",
        "\n",
        "    fig = plt.figure(figsize=fig_size)\n",
        "    gs = gridspec.GridSpec(6,5, wspace=0.3, hspace=0.1)\n",
        "\n",
        "    ax = fig.add_subplot(gs[0,0])\n",
        "    ax.axis('off')\n",
        "    ax.set_title(\"x0 at t={}\".format(t))\n",
        "    ax.imshow(x0.reshape(28,28), origin='upper', interpolation='nearest') \n",
        "\n",
        "    ax = fig.add_subplot(gs[0,1])\n",
        "    ax.bar(range(len(x1)), x1)\n",
        "    ax.set_ylabel(\"layer1\")\n",
        "    ax.set_ylim((-1, 2))\n",
        "    ax.grid()\n",
        "\n",
        "    ax = fig.add_subplot(gs[0,2])\n",
        "    ax.bar(range(len(x2)), x2)\n",
        "    ax.set_ylabel(\"output\")\n",
        "    ax.set_ylim((-1,2))\n",
        "    ax.set_xticks(range(0,10))\n",
        "    ax.grid()\n",
        "\n",
        "    ax = fig.add_subplot(gs[0,3:5])\n",
        "    ax.plot(avgerrsq, label=\"squared\")\n",
        "    ax.plot(avgerrcl, label=\"class\")\n",
        "    ax.set_ylabel(\"error\")\n",
        "    ax.set_ylim([0,1])\n",
        "    ax.grid()\n",
        "    ax.legend()\n",
        "\n",
        "    n1 = W1.shape[0]\n",
        "    for i in range(n1):\n",
        "        ax = fig.add_subplot(gs[1 + i // 5, i % 5])\n",
        "        ax.axis('off')\n",
        "        ax.imshow(W1.T.reshape(28,28,n1)[:,:,i], origin='upper', interpolation='nearest') \n",
        "\n",
        "    display.display(plt.gcf())\n",
        "    time.sleep(0.01)\n",
        "    display.clear_output(wait=True)\n",
        "    fig.clf()\n",
        "    plt.close(fig)  "
      ],
      "execution_count": null,
      "outputs": []
    },
    {
      "cell_type": "code",
      "metadata": {
        "id": "4CW4px43nnDT",
        "colab_type": "code",
        "colab": {}
      },
      "source": [
        "# functions to build and train networks \n",
        "def train_twolayer_network(f, df, eta, epsinit, tmax, fig_size):\n",
        "    \"\"\"Build and train two layer neural network\n",
        "    \n",
        "    Args:\n",
        "        f: function, activation function, maps torch tensor to another torch tensor\n",
        "        df: function, derivative of activation function, maps torch tensor to another torch tensor\n",
        "        eta: float, learning rate\n",
        "        epsinit: float, magnitude of initial weights\n",
        "        tmax: int, max number of training updates\n",
        "        fig_size: (x, y) size of figure to plot, may need to change to properly fit your screen\n",
        "    \"\"\"\n",
        "    ### setup network architecture ###\n",
        "    m = 60000                # number of examples in training set\n",
        "\n",
        "    n0 = 784                 # widths of layers\n",
        "    n1 = 25\n",
        "    n2 = 10  \n",
        "\n",
        "    # two fully connected synaptic layers\n",
        "    W1 = epsinit*torch.randn(n1, n0)\n",
        "    W2 = epsinit*torch.randn(n2, n1)\n",
        "\n",
        "    # biases\n",
        "    b1 = epsinit*torch.randn(n1)\n",
        "    b2 = epsinit*torch.randn(n2)\n",
        "\n",
        "    # training parameters\n",
        "    tshow = 1000             # how often to pause for visualization\n",
        "    errsq = torch.zeros(tmax) # track squared error \n",
        "    errcl = torch.zeros(tmax) # track classification error \n",
        "\n",
        "    ### iterate through training data ###\n",
        "    for t in range(tmax):\n",
        "        # get and format example\n",
        "        i = int(np.floor(m*np.random.rand()))\n",
        "        x0 = get_features(i)\n",
        "        y = get_onehot(i)\n",
        "\n",
        "        # forward pass\n",
        "        x1 = f(torch.matmul(W1,x0) + b1)\n",
        "        x2 = f(torch.matmul(W2,x1) + b2)\n",
        "\n",
        "        # compute error \n",
        "        errsq[t] = 0.5*torch.sum((y-x2)**2)\n",
        "        errcl[t] = float(np.argmax(x2.numpy()) != trainlabels[i])\n",
        "\n",
        "        # backward pass\n",
        "        delta2 = -1*(y-x2) * df(x2)\n",
        "        delta1 = torch.matmul(torch.t(W2), delta2) * df(x1)\n",
        "\n",
        "        # update weights\n",
        "        W2 -= eta * torch.ger(delta2, x1) # torch.ger(x,y) means outer product of x,y\n",
        "        W1 -= eta * torch.ger(delta1, x0)\n",
        "        b2 -= eta * delta2\n",
        "        b1 -= eta * delta1\n",
        "\n",
        "        # visualize training \n",
        "        if t % tshow == 0: \n",
        "            visualize_training(errsq, errcl, x0, x1, x2, W1, t)\n",
        "            \n",
        "def train_threelayer_network(f, df, eta, epsinit, tmax, fig_size): \n",
        "    ### Your code here ###\n",
        "    raise NotImplementedError"
      ],
      "execution_count": null,
      "outputs": []
    },
    {
      "cell_type": "code",
      "metadata": {
        "id": "p1h8GRo6nnDW",
        "colab_type": "code",
        "colab": {}
      },
      "source": [
        "### Train 2-layer perceptron with sigmoid activation ###\n",
        "def f(x):\n",
        "    return 1 / (1+torch.exp(-x))\n",
        "def df(y):\n",
        "    return y * (1-y)\n",
        "eta = 0.1 # learning rate \n",
        "epsinit = 0.01 #initial scale of weights\n",
        "tmax = int(6*10**5) # number of training iterations \n",
        "fig_size = (20,20) # size of figure, may need to modify to make plots fit screen\n",
        "\n",
        "train_twolayer_network(f, df, eta, epsinit, tmax, fig_size)"
      ],
      "execution_count": null,
      "outputs": []
    },
    {
      "cell_type": "markdown",
      "metadata": {
        "id": "3Gz-g3d-IZiJ",
        "colab_type": "text"
      },
      "source": [
        "**Autograd**"
      ]
    },
    {
      "cell_type": "code",
      "metadata": {
        "id": "yvcOEMumDtGF",
        "colab_type": "code",
        "colab": {}
      },
      "source": [
        "# autograd version of two layer network\n",
        "def train_twolayer_network_autograd(f, eta, epsinit, tmax, fig_size):\n",
        "    \"\"\"Build and train two layer neural network\n",
        "    \n",
        "    Args:\n",
        "        f: function, activation function, maps torch tensor to another torch tensor\n",
        "        eta: float, learning rate\n",
        "        epsinit: float, magnitude of initial weights\n",
        "        tmax: int, max number of training updates\n",
        "        fig_size: (x, y) size of figure to plot, may need to change to properly fit your screen\n",
        "    \"\"\"\n",
        "    ### setup network architecture ###\n",
        "    m = 60000                # number of examples in training set\n",
        "\n",
        "    n0 = 784                 # widths of layers\n",
        "    n1 = 25\n",
        "    n2 = 10  \n",
        "\n",
        "    # two fully connected synaptic layers\n",
        "    W1 = nn.Parameter(epsinit*torch.randn(n1, n0))\n",
        "    W2 = nn.Parameter(epsinit*torch.randn(n2, n1))\n",
        "\n",
        "    # biases\n",
        "    b1 = nn.Parameter(epsinit*torch.randn(n1))\n",
        "    b2 = nn.Parameter(epsinit*torch.randn(n2))\n",
        "    \n",
        "    # create optimizer\n",
        "    optim = torch.optim.SGD([W1,W2,b1,b2], eta)\n",
        "\n",
        "    # training parameters\n",
        "    tshow = 1000             # how often to pause for visualization\n",
        "    errsq = torch.zeros(tmax) # track squared error \n",
        "    errcl = torch.zeros(tmax) # track classification error \n",
        "\n",
        "    ### iterate through training data ###\n",
        "    for t in range(tmax):\n",
        "        # get and format example\n",
        "        i = int(np.floor(m*np.random.rand()))\n",
        "        x0 = get_features(i)\n",
        "        y = get_onehot(i)\n",
        "        \n",
        "        # zero gradients, without this, pytorch will add new grads to previous ones\n",
        "        optim.zero_grad()\n",
        "\n",
        "        # forward pass\n",
        "        x1 = f(torch.matmul(W1,x0) + b1)\n",
        "        x2 = f(torch.matmul(W2,x1) + b2)\n",
        "\n",
        "        # compute error \n",
        "        e = 0.5*torch.sum((y-x2)**2)\n",
        "        errsq[t] = e\n",
        "        errcl[t] = float(np.argmax(x2.detach().numpy()) != trainlabels[i])\n",
        "\n",
        "        # backward pass\n",
        "        e.backward()\n",
        "\n",
        "        # update weights\n",
        "        optim.step()\n",
        "\n",
        "        # visualize training \n",
        "        if t % tshow == 0: \n",
        "            visualize_training(errsq.detach(), errcl.detach(), x0.detach(), x1.detach(), x2.detach(), W1.detach(), t)"
      ],
      "execution_count": null,
      "outputs": []
    },
    {
      "cell_type": "code",
      "metadata": {
        "id": "i2e0b386FRab",
        "colab_type": "code",
        "colab": {}
      },
      "source": [
        "### Train 2-layer perceptron with sigmoid activation ###\n",
        "def f(x):\n",
        "    return 1 / (1+torch.exp(-x))\n",
        "\n",
        "eta = 0.1 # learning rate \n",
        "epsinit = 0.01 #initial scale of weights\n",
        "tmax = int(6*10**5) # number of training iterations \n",
        "fig_size = (20,20) # size of figure, may need to modify to make plots fit screen\n",
        "\n",
        "train_twolayer_network_autograd(f, eta, epsinit, tmax, fig_size)"
      ],
      "execution_count": null,
      "outputs": []
    }
  ]
}